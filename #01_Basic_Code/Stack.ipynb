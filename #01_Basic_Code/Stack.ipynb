{
 "cells": [
  {
   "cell_type": "code",
   "execution_count": 13,
   "metadata": {
    "colab": {
     "base_uri": "https://localhost:8080/"
    },
    "executionInfo": {
     "elapsed": 313,
     "status": "ok",
     "timestamp": 1679218525982,
     "user": {
      "displayName": "Hyon Hee Kim",
      "userId": "14896894259665252236"
     },
     "user_tz": -540
    },
    "id": "xCuECQbpyOM0",
    "outputId": "483f0f38-4df0-4a92-b314-922f40cf4ba7"
   },
   "outputs": [
    {
     "name": "stdout",
     "output_type": "stream",
     "text": [
      "----- 스택 상태 -----\n",
      "None\n",
      "None\n",
      "꿀물\n",
      "녹차\n",
      "커피\n"
     ]
    }
   ],
   "source": [
    "stack = [None, None, None, None, None]\n",
    "top = -1\n",
    "\n",
    "top += 1\n",
    "stack[top] = \"커피\"\n",
    "top += 1\n",
    "stack[top] = \"녹차\"\n",
    "top += 1\n",
    "stack[top] = \"꿀물\"\n",
    "\n",
    "print(\"----- 스택 상태 -----\")\n",
    "for i in range(len(stack)-1, -1, -1) :\n",
    "\tprint(stack[i])"
   ]
  },
  {
   "cell_type": "code",
   "execution_count": 14,
   "metadata": {
    "colab": {
     "base_uri": "https://localhost:8080/"
    },
    "executionInfo": {
     "elapsed": 344,
     "status": "ok",
     "timestamp": 1679218579130,
     "user": {
      "displayName": "Hyon Hee Kim",
      "userId": "14896894259665252236"
     },
     "user_tz": -540
    },
    "id": "gcOFTdOQ1xVt",
    "outputId": "374c5ee5-4408-42ff-972b-7055c6e4d19d"
   },
   "outputs": [
    {
     "name": "stdout",
     "output_type": "stream",
     "text": [
      "--- 스택 상태-----\n",
      "None\n",
      "None\n",
      "꿀물\n",
      "녹차\n",
      "커피\n",
      "-------------------\n",
      "pop --> 꿀물\n",
      "pop --> 녹차\n",
      "pop --> 커피\n",
      "-------------------\n",
      "--- 스택 상태-----\n",
      "None\n",
      "None\n",
      "None\n",
      "None\n",
      "None\n"
     ]
    }
   ],
   "source": [
    "stack = [\"커피\", \"녹차\", \"꿀물\", None, None]\n",
    "top = 2\n",
    "\n",
    "print(\"--- 스택 상태-----\")\n",
    "for i in range(len(stack)-1, -1, -1) :\n",
    "\tprint(stack[i])\n",
    "\n",
    "print(\"-------------------\")\n",
    "data = stack[top]\n",
    "stack[top] = None\n",
    "top -= 1\n",
    "print(\"pop -->\", data)\n",
    "\n",
    "data = stack[top]\n",
    "stack[top] = None\n",
    "top -= 1\n",
    "print(\"pop -->\", data)\n",
    "\n",
    "data = stack[top]\n",
    "stack[top] = None\n",
    "top -= 1\n",
    "print(\"pop -->\", data)\n",
    "print(\"-------------------\")\n",
    "\n",
    "print(\"--- 스택 상태-----\")\n",
    "for i in range(len(stack)-1, -1, -1) :\n",
    "\tprint(stack[i])"
   ]
  },
  {
   "cell_type": "code",
   "execution_count": 15,
   "metadata": {
    "colab": {
     "base_uri": "https://localhost:8080/"
    },
    "executionInfo": {
     "elapsed": 323,
     "status": "ok",
     "timestamp": 1679218654601,
     "user": {
      "displayName": "Hyon Hee Kim",
      "userId": "14896894259665252236"
     },
     "user_tz": -540
    },
    "id": "gS1WZQWh12zg",
    "outputId": "3b6f11de-738a-4d27-829c-382b41b13b72"
   },
   "outputs": [
    {
     "name": "stdout",
     "output_type": "stream",
     "text": [
      "스택이 꽉 찼는지 여부 ==> True\n"
     ]
    }
   ],
   "source": [
    "def isStackFull() :\n",
    "\tglobal SIZE, stack, top\n",
    "\tif (top >= SIZE-1) :\n",
    "\t\treturn True\n",
    "\telse :\n",
    "\t\treturn False\n",
    "\n",
    "SIZE = 5\n",
    "stack = [\"커피\", \"녹차\", \"꿀물\", \"콜라\", \"환타\"]\n",
    "top = 4\n",
    "\n",
    "print(\"스택이 꽉 찼는지 여부 ==>\", isStackFull())\n"
   ]
  },
  {
   "cell_type": "code",
   "execution_count": 16,
   "metadata": {
    "executionInfo": {
     "elapsed": 431,
     "status": "ok",
     "timestamp": 1679218709386,
     "user": {
      "displayName": "Hyon Hee Kim",
      "userId": "14896894259665252236"
     },
     "user_tz": -540
    },
    "id": "3WH2VO_2O3rp"
   },
   "outputs": [],
   "source": [
    "SIZE = 5\n",
    "stack = [\"커피\", \"녹차\", \"꿀물\", \"콜라\", None]\n",
    "top = 3"
   ]
  },
  {
   "cell_type": "code",
   "execution_count": 17,
   "metadata": {
    "colab": {
     "base_uri": "https://localhost:8080/"
    },
    "executionInfo": {
     "elapsed": 256,
     "status": "ok",
     "timestamp": 1679218729534,
     "user": {
      "displayName": "Hyon Hee Kim",
      "userId": "14896894259665252236"
     },
     "user_tz": -540
    },
    "id": "oREOCe_lPBeq",
    "outputId": "13f81f42-d116-4db9-a5de-41cb405aa362"
   },
   "outputs": [
    {
     "name": "stdout",
     "output_type": "stream",
     "text": [
      "False\n"
     ]
    }
   ],
   "source": [
    "print(isStackFull())"
   ]
  },
  {
   "cell_type": "code",
   "execution_count": 18,
   "metadata": {
    "executionInfo": {
     "elapsed": 249,
     "status": "ok",
     "timestamp": 1679218801803,
     "user": {
      "displayName": "Hyon Hee Kim",
      "userId": "14896894259665252236"
     },
     "user_tz": -540
    },
    "id": "qM7pFlT316DD"
   },
   "outputs": [],
   "source": [
    "def isStackFull() :\n",
    "\tglobal SIZE, stack, top\n",
    "\tif (top >= SIZE-1) :\n",
    "\t\treturn True\n",
    "\telse :\n",
    "\t\treturn False\n",
    "\n",
    "def push(data) :\n",
    "\tglobal SIZE, stack, top\n",
    "\tif (isStackFull()) :\n",
    "\t\tprint(\"스택이 꽉 찼습니다.\")\n",
    "\t\treturn\n",
    "\ttop += 1\n",
    "\tstack[top] = data"
   ]
  },
  {
   "cell_type": "code",
   "execution_count": 19,
   "metadata": {
    "colab": {
     "base_uri": "https://localhost:8080/"
    },
    "executionInfo": {
     "elapsed": 277,
     "status": "ok",
     "timestamp": 1679218829716,
     "user": {
      "displayName": "Hyon Hee Kim",
      "userId": "14896894259665252236"
     },
     "user_tz": -540
    },
    "id": "S8Nf4I50PTvr",
    "outputId": "12b04ec7-c279-472e-bea0-a845525cabdb"
   },
   "outputs": [
    {
     "name": "stdout",
     "output_type": "stream",
     "text": [
      "['커피', '녹차', '꿀물', '콜라', None]\n"
     ]
    }
   ],
   "source": [
    "SIZE = 5\n",
    "stack = [\"커피\", \"녹차\", \"꿀물\", \"콜라\", None]\n",
    "top = 3\n",
    "\n",
    "print(stack)"
   ]
  },
  {
   "cell_type": "code",
   "execution_count": 20,
   "metadata": {
    "colab": {
     "base_uri": "https://localhost:8080/"
    },
    "executionInfo": {
     "elapsed": 245,
     "status": "ok",
     "timestamp": 1679218849560,
     "user": {
      "displayName": "Hyon Hee Kim",
      "userId": "14896894259665252236"
     },
     "user_tz": -540
    },
    "id": "3-wLkZfoPcGV",
    "outputId": "f8af7c30-51f6-4363-d9e0-75cf46d23112"
   },
   "outputs": [
    {
     "name": "stdout",
     "output_type": "stream",
     "text": [
      "['커피', '녹차', '꿀물', '콜라', '환타']\n"
     ]
    }
   ],
   "source": [
    "push(\"환타\")\n",
    "print(stack)"
   ]
  },
  {
   "cell_type": "code",
   "execution_count": 21,
   "metadata": {
    "colab": {
     "base_uri": "https://localhost:8080/"
    },
    "executionInfo": {
     "elapsed": 360,
     "status": "ok",
     "timestamp": 1679218857572,
     "user": {
      "displayName": "Hyon Hee Kim",
      "userId": "14896894259665252236"
     },
     "user_tz": -540
    },
    "id": "zjcI6rl2PgYM",
    "outputId": "9bc400d3-c1d1-49f5-b808-796b30e22b31"
   },
   "outputs": [
    {
     "name": "stdout",
     "output_type": "stream",
     "text": [
      "스택이 꽉 찼습니다.\n"
     ]
    }
   ],
   "source": [
    "push(\"게토레이\")"
   ]
  },
  {
   "cell_type": "code",
   "execution_count": 22,
   "metadata": {
    "executionInfo": {
     "elapsed": 258,
     "status": "ok",
     "timestamp": 1679218917730,
     "user": {
      "displayName": "Hyon Hee Kim",
      "userId": "14896894259665252236"
     },
     "user_tz": -540
    },
    "id": "jBsvm0kX188V"
   },
   "outputs": [],
   "source": [
    "def isStackEmpty() :\n",
    "\tglobal SIZE, stack, top\n",
    "\tif (top == -1) :\n",
    "\t\treturn True\n",
    "\telse :\n",
    "\t\treturn False\n",
    "\n",
    "SIZE = 5\n",
    "stack = [ None for _ in range(SIZE) ]\n",
    "top = -1\n"
   ]
  },
  {
   "cell_type": "code",
   "execution_count": 23,
   "metadata": {
    "colab": {
     "base_uri": "https://localhost:8080/"
    },
    "executionInfo": {
     "elapsed": 312,
     "status": "ok",
     "timestamp": 1679218931509,
     "user": {
      "displayName": "Hyon Hee Kim",
      "userId": "14896894259665252236"
     },
     "user_tz": -540
    },
    "id": "y_5u8O0hP1lW",
    "outputId": "25a7ec9c-1782-487e-86a8-68770fccfc4e"
   },
   "outputs": [
    {
     "name": "stdout",
     "output_type": "stream",
     "text": [
      "[None, None, None, None, None]\n"
     ]
    }
   ],
   "source": [
    "print(stack)"
   ]
  },
  {
   "cell_type": "code",
   "execution_count": 24,
   "metadata": {
    "colab": {
     "base_uri": "https://localhost:8080/"
    },
    "executionInfo": {
     "elapsed": 288,
     "status": "ok",
     "timestamp": 1679218939289,
     "user": {
      "displayName": "Hyon Hee Kim",
      "userId": "14896894259665252236"
     },
     "user_tz": -540
    },
    "id": "mfVahF2KPxcA",
    "outputId": "ea1ceffa-d6f6-409a-89ee-9ce7b48c70cf"
   },
   "outputs": [
    {
     "name": "stdout",
     "output_type": "stream",
     "text": [
      "스택이 비었는지 여부 ==> True\n"
     ]
    }
   ],
   "source": [
    "print(\"스택이 비었는지 여부 ==>\", isStackEmpty())"
   ]
  },
  {
   "cell_type": "code",
   "execution_count": 26,
   "metadata": {
    "executionInfo": {
     "elapsed": 258,
     "status": "ok",
     "timestamp": 1679219005536,
     "user": {
      "displayName": "Hyon Hee Kim",
      "userId": "14896894259665252236"
     },
     "user_tz": -540
    },
    "id": "-AN4pxJfP70f"
   },
   "outputs": [],
   "source": [
    "def isStackEmpty() :\n",
    "\tglobal SIZE, stack, top\n",
    "\tif (top == -1) :\n",
    "\t\treturn True\n",
    "\telse :\n",
    "\t\treturn False\n",
    "\n",
    "def pop() :\n",
    "\tglobal SIZE, stack, top\n",
    "\tif (isStackEmpty()) :\n",
    "\t\tprint(\"스택이 비었습니다.\")\n",
    "\t\treturn None\n",
    "\tdata = stack[top]\n",
    "\tstack[top] = None\n",
    "\ttop -= 1\n",
    "\treturn data"
   ]
  },
  {
   "cell_type": "code",
   "execution_count": 27,
   "metadata": {
    "colab": {
     "base_uri": "https://localhost:8080/"
    },
    "executionInfo": {
     "elapsed": 306,
     "status": "ok",
     "timestamp": 1679219031142,
     "user": {
      "displayName": "Hyon Hee Kim",
      "userId": "14896894259665252236"
     },
     "user_tz": -540
    },
    "id": "uFWVBEfP2DIw",
    "outputId": "5787ac25-ad23-4def-eb74-f810f138f4d1"
   },
   "outputs": [
    {
     "name": "stdout",
     "output_type": "stream",
     "text": [
      "['커피', None, None, None, None]\n"
     ]
    }
   ],
   "source": [
    "SIZE = 5\n",
    "stack = [\"커피\", None, None, None, None]\n",
    "top = 0\n",
    "\n",
    "\n",
    "print(stack)"
   ]
  },
  {
   "cell_type": "code",
   "execution_count": 28,
   "metadata": {
    "colab": {
     "base_uri": "https://localhost:8080/"
    },
    "executionInfo": {
     "elapsed": 321,
     "status": "ok",
     "timestamp": 1679219047738,
     "user": {
      "displayName": "Hyon Hee Kim",
      "userId": "14896894259665252236"
     },
     "user_tz": -540
    },
    "id": "edEhyo8PQLqT",
    "outputId": "04dde506-755b-426c-83fb-6a60ccc0e4c4"
   },
   "outputs": [
    {
     "name": "stdout",
     "output_type": "stream",
     "text": [
      "['커피', None, None, None, None]\n",
      "추출한 데이터 --> 커피\n",
      "[None, None, None, None, None]\n"
     ]
    }
   ],
   "source": [
    "print(stack)\n",
    "retData = pop()\n",
    "print(\"추출한 데이터 -->\", retData)\n",
    "print(stack)\n"
   ]
  },
  {
   "cell_type": "code",
   "execution_count": 29,
   "metadata": {
    "colab": {
     "base_uri": "https://localhost:8080/"
    },
    "executionInfo": {
     "elapsed": 355,
     "status": "ok",
     "timestamp": 1679219062687,
     "user": {
      "displayName": "Hyon Hee Kim",
      "userId": "14896894259665252236"
     },
     "user_tz": -540
    },
    "id": "HvMhffAaQSxh",
    "outputId": "ca170e75-3087-4dba-efe3-420157472d70"
   },
   "outputs": [
    {
     "name": "stdout",
     "output_type": "stream",
     "text": [
      "스택이 비었습니다.\n"
     ]
    }
   ],
   "source": [
    "retData = pop()"
   ]
  },
  {
   "cell_type": "code",
   "execution_count": 30,
   "metadata": {
    "executionInfo": {
     "elapsed": 301,
     "status": "ok",
     "timestamp": 1679219141433,
     "user": {
      "displayName": "Hyon Hee Kim",
      "userId": "14896894259665252236"
     },
     "user_tz": -540
    },
    "id": "LQ5ZYcsT2G8B"
   },
   "outputs": [],
   "source": [
    "def isStackEmpty() :\n",
    "\tglobal SIZE, stack, top\n",
    "\tif (top == -1) :\n",
    "\t\treturn True\n",
    "\telse :\n",
    "\t\treturn False\n",
    "\n",
    "def peek() :\n",
    "\tglobal SIZE, stack, top\n",
    "\tif (isStackEmpty()) :\n",
    "\t\tprint(\"스택이 비었습니다.\")\n",
    "\t\treturn None\n",
    "\treturn stack[top]"
   ]
  },
  {
   "cell_type": "code",
   "execution_count": 31,
   "metadata": {
    "colab": {
     "base_uri": "https://localhost:8080/"
    },
    "executionInfo": {
     "elapsed": 269,
     "status": "ok",
     "timestamp": 1679219167279,
     "user": {
      "displayName": "Hyon Hee Kim",
      "userId": "14896894259665252236"
     },
     "user_tz": -540
    },
    "id": "4xr9lx_LQn4L",
    "outputId": "f19e680e-a49e-443a-9c83-a530ce040e81"
   },
   "outputs": [
    {
     "name": "stdout",
     "output_type": "stream",
     "text": [
      "['커피', '녹차', '꿀물', None, None]\n",
      "top의 데이터 확인 --> 꿀물\n"
     ]
    }
   ],
   "source": [
    "SIZE = 5\n",
    "stack = [\"커피\", \"녹차\", \"꿀물\", None, None]\n",
    "top = 2\n",
    "\n",
    "print(stack)\n",
    "retData = peek()\n",
    "print(\"top의 데이터 확인 -->\", retData)"
   ]
  },
  {
   "cell_type": "code",
   "execution_count": 32,
   "metadata": {
    "colab": {
     "base_uri": "https://localhost:8080/"
    },
    "executionInfo": {
     "elapsed": 305,
     "status": "ok",
     "timestamp": 1679219173386,
     "user": {
      "displayName": "Hyon Hee Kim",
      "userId": "14896894259665252236"
     },
     "user_tz": -540
    },
    "id": "aHwD2V_1QsqK",
    "outputId": "9c4de657-7061-44d2-f1cb-09a02d092a58"
   },
   "outputs": [
    {
     "name": "stdout",
     "output_type": "stream",
     "text": [
      "['커피', '녹차', '꿀물', None, None]\n"
     ]
    }
   ],
   "source": [
    "print(stack)"
   ]
  },
  {
   "cell_type": "code",
   "execution_count": 33,
   "metadata": {
    "executionInfo": {
     "elapsed": 275,
     "status": "ok",
     "timestamp": 1679219199853,
     "user": {
      "displayName": "Hyon Hee Kim",
      "userId": "14896894259665252236"
     },
     "user_tz": -540
    },
    "id": "DO4FuLTK2MmY"
   },
   "outputs": [],
   "source": [
    "## 함수 선언 부분 ##\n",
    "def isStackFull() :\n",
    "\tglobal SIZE, stack, top\n",
    "\tif (top >= SIZE-1) :\n",
    "\t\treturn True\n",
    "\telse :\n",
    "\t\treturn False\n",
    "\n",
    "def isStackEmpty() :\n",
    "\tglobal SIZE, stack, top\n",
    "\tif (top == -1) :\n",
    "\t\treturn True\n",
    "\telse :\n",
    "\t\treturn False\n",
    "\n",
    "def push(data) :\n",
    "\tglobal SIZE, stack, top\n",
    "\tif (isStackFull()) :\n",
    "\t\tprint(\"스택이 꽉 찼습니다.\")\n",
    "\t\treturn\n",
    "\ttop += 1\n",
    "\tstack[top] = data\n",
    "\n",
    "def pop() :\n",
    "\tglobal SIZE, stack, top\n",
    "\tif (isStackEmpty()) :\n",
    "\t\tprint(\"스택이 비었습니다.\")\n",
    "\t\treturn None\n",
    "\tdata = stack[top]\n",
    "\tstack[top] = None\n",
    "\ttop -= 1\n",
    "\treturn data\n",
    "\n",
    "def peek() :\n",
    "\tglobal SIZE, stack, top\n",
    "\tif (isStackEmpty()) :\n",
    "\t\tprint(\"스택이 비었습니다.\")\n",
    "\t\treturn None\n",
    "\treturn stack[top]"
   ]
  },
  {
   "cell_type": "code",
   "execution_count": 34,
   "metadata": {
    "colab": {
     "base_uri": "https://localhost:8080/"
    },
    "executionInfo": {
     "elapsed": 113058,
     "status": "ok",
     "timestamp": 1679219376247,
     "user": {
      "displayName": "Hyon Hee Kim",
      "userId": "14896894259665252236"
     },
     "user_tz": -540
    },
    "id": "BPQZqklPF901",
    "outputId": "0d7db7db-dc00-4c78-87f6-b760ad4fa430"
   },
   "outputs": [
    {
     "name": "stdout",
     "output_type": "stream",
     "text": [
      "스택의 크기를 입력하세요 ==> 10\n",
      "삽입(I)/추출(E)/확인(V)/종료(X) 중 하나를 선택 ==> i\n",
      "입력할 데이터 ==> 사과\n",
      "스택 상태 :  ['사과', None, None, None, None, None, None, None, None, None]\n",
      "삽입(I)/추출(E)/확인(V)/종료(X) 중 하나를 선택 ==> i\n",
      "입력할 데이터 ==> 포도\n",
      "스택 상태 :  ['사과', '포도', None, None, None, None, None, None, None, None]\n",
      "삽입(I)/추출(E)/확인(V)/종료(X) 중 하나를 선택 ==> i\n",
      "입력할 데이터 ==> 바나나\n",
      "스택 상태 :  ['사과', '포도', '바나나', None, None, None, None, None, None, None]\n",
      "삽입(I)/추출(E)/확인(V)/종료(X) 중 하나를 선택 ==> v\n",
      "확인된 데이터 ==>  바나나\n",
      "스택 상태 :  ['사과', '포도', '바나나', None, None, None, None, None, None, None]\n",
      "삽입(I)/추출(E)/확인(V)/종료(X) 중 하나를 선택 ==> e\n",
      "추출된 데이터 ==>  바나나\n",
      "스택 상태 :  ['사과', '포도', None, None, None, None, None, None, None, None]\n",
      "삽입(I)/추출(E)/확인(V)/종료(X) 중 하나를 선택 ==> e\n",
      "추출된 데이터 ==>  포도\n",
      "스택 상태 :  ['사과', None, None, None, None, None, None, None, None, None]\n",
      "삽입(I)/추출(E)/확인(V)/종료(X) 중 하나를 선택 ==> e\n",
      "추출된 데이터 ==>  사과\n",
      "스택 상태 :  [None, None, None, None, None, None, None, None, None, None]\n",
      "삽입(I)/추출(E)/확인(V)/종료(X) 중 하나를 선택 ==> e\n",
      "스택이 비었습니다.\n",
      "추출된 데이터 ==>  None\n",
      "스택 상태 :  [None, None, None, None, None, None, None, None, None, None]\n",
      "삽입(I)/추출(E)/확인(V)/종료(X) 중 하나를 선택 ==> x\n",
      "프로그램 종료!\n"
     ]
    }
   ],
   "source": [
    "## 전역 변수 선언 부분 ##\n",
    "SIZE = int(input(\"스택의 크기를 입력하세요 ==> \"))\n",
    "stack = [ None for _ in range(SIZE) ]\n",
    "top = -1\n",
    "\n",
    "## 메인 코드 부분 ##\n",
    "if __name__ == \"__main__\" :\n",
    "\tselect = input(\"삽입(I)/추출(E)/확인(V)/종료(X) 중 하나를 선택 ==> \")\n",
    "\n",
    "\twhile (select != 'X' and select != 'x') :\n",
    "\t\tif select=='I' or select =='i' :\n",
    "\t\t\tdata = input(\"입력할 데이터 ==> \")\n",
    "\t\t\tpush(data)\n",
    "\t\t\tprint(\"스택 상태 : \", stack)\n",
    "\t\telif select=='E' or select =='e' :\n",
    "\t\t\tdata = pop()\n",
    "\t\t\tprint(\"추출된 데이터 ==> \", data)\n",
    "\t\t\tprint(\"스택 상태 : \", stack)\n",
    "\t\telif select=='V' or select =='v' :\n",
    "\t\t\tdata = peek()\n",
    "\t\t\tprint(\"확인된 데이터 ==> \", data)\n",
    "\t\t\tprint(\"스택 상태 : \", stack)\n",
    "\t\telse :\n",
    "\t\t\tprint(\"입력이 잘못됨\")\n",
    "\n",
    "\t\tselect = input(\"삽입(I)/추출(E)/확인(V)/종료(X) 중 하나를 선택 ==> \")\n",
    "\n",
    "\tprint(\"프로그램 종료!\")"
   ]
  },
  {
   "cell_type": "code",
   "execution_count": 35,
   "metadata": {
    "executionInfo": {
     "elapsed": 402,
     "status": "ok",
     "timestamp": 1679219472805,
     "user": {
      "displayName": "Hyon Hee Kim",
      "userId": "14896894259665252236"
     },
     "user_tz": -540
    },
    "id": "P3M56iG2GNDu"
   },
   "outputs": [],
   "source": [
    "import webbrowser\n",
    "import time\n",
    "\n",
    "## 함수 선언 부분 ##\n",
    "def isStackFull() :\n",
    "\tglobal SIZE, stack, top\n",
    "\tif (top >= SIZE-1) :\n",
    "\t\treturn True\n",
    "\telse :\n",
    "\t\treturn False\n",
    "\n",
    "def isStackEmpty() :\n",
    "\tglobal SIZE, stack, top\n",
    "\tif (top == -1) :\n",
    "\t\treturn True\n",
    "\telse :\n",
    "\t\treturn False\n",
    "\n",
    "def push(data) :\n",
    "\tglobal SIZE, stack, top\n",
    "\tif (isStackFull()) :\n",
    "\t\tprint(\"스택이 꽉 찼습니다.\")\n",
    "\t\treturn\n",
    "\ttop += 1\n",
    "\tstack[top] = data\n",
    "\n",
    "def pop() :\n",
    "\tglobal SIZE, stack, top\n",
    "\tif (isStackEmpty()) :\n",
    "\t\tprint(\"스택이 비었습니다.\")\n",
    "\t\treturn None\n",
    "\tdata = stack[top]\n",
    "\tstack[top] = None\n",
    "\ttop -= 1\n",
    "\treturn data\n",
    "\n",
    "def peek() :\n",
    "\tglobal SIZE, stack, top\n",
    "\tif (isStackEmpty()) :\n",
    "\t\tprint(\"스택이 비었습니다.\")\n",
    "\t\treturn None\n",
    "\treturn stack[top]"
   ]
  },
  {
   "cell_type": "code",
   "execution_count": 36,
   "metadata": {
    "colab": {
     "base_uri": "https://localhost:8080/"
    },
    "executionInfo": {
     "elapsed": 11307,
     "status": "ok",
     "timestamp": 1679219525330,
     "user": {
      "displayName": "Hyon Hee Kim",
      "userId": "14896894259665252236"
     },
     "user_tz": -540
    },
    "id": "JKAGYRtx2Q1y",
    "outputId": "804110e8-b2c3-4a69-e712-578128bfeb93"
   },
   "outputs": [
    {
     "name": "stdout",
     "output_type": "stream",
     "text": [
      "naver.com-->daum.net-->nate.com-->방문 종료\n",
      "nate.com-->daum.net-->naver.com-->스택이 비었습니다.\n",
      "방문 종료\n"
     ]
    }
   ],
   "source": [
    "## 전역 변수 선언 부분 ##\n",
    "SIZE = 100\n",
    "stack = [ None for _ in range(SIZE) ]\n",
    "top = -1\n",
    "\n",
    "## 메인 코드 부분 ##\n",
    "if __name__ == \"__main__\" :\n",
    "\turls = [ 'naver.com', 'daum.net', 'nate.com']\n",
    "\n",
    "\tfor url in urls :\n",
    "\t\tpush(url)\n",
    "\t\twebbrowser.open('http://'+url)\n",
    "\t\tprint(url, end = '-->')\n",
    "\t\ttime.sleep(1)\n",
    "\n",
    "\tprint(\"방문 종료\")\n",
    "\ttime.sleep(5)\n",
    "\n",
    "\twhile True :\n",
    "\t\turl = pop()\n",
    "\t\tif url == None :\n",
    "\t\t\tbreak\n",
    "\t\twebbrowser.open('http://'+url)\n",
    "\t\tprint(url, end = '-->')\n",
    "\t\ttime.sleep(1)\n",
    "\tprint(\"방문 종료\")"
   ]
  },
  {
   "cell_type": "code",
   "execution_count": 11,
   "metadata": {
    "executionInfo": {
     "elapsed": 430,
     "status": "ok",
     "timestamp": 1679216584457,
     "user": {
      "displayName": "Hyon Hee Kim",
      "userId": "14896894259665252236"
     },
     "user_tz": -540
    },
    "id": "fTzmJJs9GmDl"
   },
   "outputs": [],
   "source": [
    "## 함수 선언 부분 ##\n",
    "def isStackFull() :\n",
    "\tglobal SIZE, stack, top\n",
    "\tif (top >= SIZE-1) :\n",
    "\t\treturn True\n",
    "\telse :\n",
    "\t\treturn False\n",
    "\n",
    "def isStackEmpty() :\n",
    "\tglobal SIZE, stack, top\n",
    "\tif (top == -1) :\n",
    "\t\treturn True\n",
    "\telse :\n",
    "\t\treturn False\n",
    "\n",
    "def push(data) :\n",
    "\tglobal SIZE, stack, top\n",
    "\tif (isStackFull()) :\n",
    "\t\tprint(\"스택이 꽉 찼습니다.\")\n",
    "\t\treturn\n",
    "\ttop += 1\n",
    "\tstack[top] = data\n",
    "\n",
    "def pop() :\n",
    "\tglobal SIZE, stack, top\n",
    "\tif (isStackEmpty()) :\n",
    "\t\tprint(\"스택이 비었습니다.\")\n",
    "\t\treturn None\n",
    "\tdata = stack[top]\n",
    "\tstack[top] = None\n",
    "\ttop -= 1\n",
    "\treturn data\n",
    "\n",
    "def peek() :\n",
    "\tglobal SIZE, stack, top\n",
    "\tif (isStackEmpty()) :\n",
    "\t\tprint(\"스택이 비었습니다.\")\n",
    "\t\treturn None\n",
    "\treturn stack[top]\n",
    "\n",
    "def checkBracket(expr) :\n",
    "\tfor ch in expr:\n",
    "\t\tif ch in '([{<':\n",
    "\t\t\tpush(ch)\n",
    "\t\telif ch in ')]}>':\n",
    "\t\t\tout = pop()\n",
    "\t\t\tif ch == ')' and out == '(':\n",
    "\t\t\t\tpass\n",
    "\t\t\telif ch == ']' and out == '[':\n",
    "\t\t\t\tpass\n",
    "\t\t\telif ch == '}' and out == '{':\n",
    "\t\t\t\tpass\n",
    "\t\t\telif ch == '>' and out == '<':\n",
    "\t\t\t\tpass\n",
    "\t\t\telse:\n",
    "\t\t\t\treturn False\n",
    "\t\telse :\n",
    "\t\t\tpass\n",
    "\tif isStackEmpty() :\n",
    "\t\treturn True\n",
    "\telse :\n",
    "\t\treturn False"
   ]
  },
  {
   "cell_type": "code",
   "execution_count": 12,
   "metadata": {
    "colab": {
     "base_uri": "https://localhost:8080/"
    },
    "executionInfo": {
     "elapsed": 282,
     "status": "ok",
     "timestamp": 1679216587350,
     "user": {
      "displayName": "Hyon Hee Kim",
      "userId": "14896894259665252236"
     },
     "user_tz": -540
    },
    "id": "uq92Xs6PG3oQ",
    "outputId": "1f6dbaf8-9660-43f9-a30c-239001e1e1cd"
   },
   "outputs": [
    {
     "name": "stdout",
     "output_type": "stream",
     "text": [
      "(A+B) ==> True\n",
      "스택이 비었습니다.\n",
      ")A+B( ==> False\n",
      "((A+B)-C ==> False\n",
      "(A+B] ==> False\n",
      "(<A+{B-C}/[C*D]>) ==> True\n"
     ]
    }
   ],
   "source": [
    "## 전역 변수 선언 부분 ##\n",
    "SIZE = 100\n",
    "stack = [ None for _ in range(SIZE) ]\n",
    "top = -1\n",
    "\n",
    "## 메인 코드 부분 ##\n",
    "if __name__ == \"__main__\" :\n",
    "\n",
    "\texprAry = ['(A+B)', ')A+B(', '((A+B)-C', '(A+B]', '(<A+{B-C}/[C*D]>)']\n",
    "\n",
    "\tfor expr in exprAry :\n",
    "\t\ttop = -1\n",
    "\t\tprint(expr, '==>', checkBracket(expr))"
   ]
  }
 ],
 "metadata": {
  "colab": {
   "authorship_tag": "ABX9TyOPmInnXvU/95/RJ6ct9C2U",
   "provenance": []
  },
  "kernelspec": {
   "display_name": "Python 3 (ipykernel)",
   "language": "python",
   "name": "python3"
  },
  "language_info": {
   "codemirror_mode": {
    "name": "ipython",
    "version": 3
   },
   "file_extension": ".py",
   "mimetype": "text/x-python",
   "name": "python",
   "nbconvert_exporter": "python",
   "pygments_lexer": "ipython3",
   "version": "3.9.12"
  }
 },
 "nbformat": 4,
 "nbformat_minor": 1
}
