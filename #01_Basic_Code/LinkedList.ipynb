{
 "cells": [
  {
   "cell_type": "code",
   "execution_count": 1,
   "metadata": {
    "colab": {
     "base_uri": "https://localhost:8080/"
    },
    "executionInfo": {
     "elapsed": 350,
     "status": "ok",
     "timestamp": 1678606220921,
     "user": {
      "displayName": "Hyon Hee Kim",
      "userId": "14896894259665252236"
     },
     "user_tz": -540
    },
    "id": "xVAILkhBhQJ2",
    "outputId": "ff2bcbd5-1920-45f6-f362-cbaff0bc7a49"
   },
   "outputs": [
    {
     "name": "stdout",
     "output_type": "stream",
     "text": [
      "다현 정연 쯔위 사나 지효 "
     ]
    }
   ],
   "source": [
    "class Node() :\n",
    "\tdef __init__ (self) :\n",
    "\t\tself.data = None\n",
    "\t\tself.link = None\n",
    "\n",
    "node1 = Node()\n",
    "node1.data = \"다현\"\n",
    "\n",
    "node2 = Node()\n",
    "node2.data = \"정연\"\n",
    "node1.link = node2\n",
    "\n",
    "node3 = Node()\n",
    "node3.data = \"쯔위\"\n",
    "node2.link = node3\n",
    "\n",
    "node4 = Node()\n",
    "node4.data = \"사나\"\n",
    "node3.link = node4\n",
    "\n",
    "node5 = Node()\n",
    "node5.data = \"지효\"\n",
    "node4.link = node5\n",
    "\n",
    "# 비효율적으로 출력하는 방법 \n",
    "print(node1.data, end = ' ')\n",
    "print(node1.link.data, end = ' ')\n",
    "print(node1.link.link.data, end = ' ')\n",
    "print(node1.link.link.link.data, end = ' ')\n",
    "print(node1.link.link.link.link.data, end = ' ')"
   ]
  },
  {
   "cell_type": "code",
   "execution_count": 2,
   "metadata": {
    "colab": {
     "base_uri": "https://localhost:8080/"
    },
    "executionInfo": {
     "elapsed": 342,
     "status": "ok",
     "timestamp": 1678606242724,
     "user": {
      "displayName": "Hyon Hee Kim",
      "userId": "14896894259665252236"
     },
     "user_tz": -540
    },
    "id": "bg_Q9w16ulnc",
    "outputId": "bc2e5e08-9d88-4857-c60d-b4fde6695a0d"
   },
   "outputs": [
    {
     "name": "stdout",
     "output_type": "stream",
     "text": [
      "쯔위\n"
     ]
    }
   ],
   "source": [
    "print(node2.link.data)"
   ]
  },
  {
   "cell_type": "code",
   "execution_count": 3,
   "metadata": {
    "colab": {
     "base_uri": "https://localhost:8080/"
    },
    "executionInfo": {
     "elapsed": 439,
     "status": "ok",
     "timestamp": 1678602877753,
     "user": {
      "displayName": "Hyon Hee Kim",
      "userId": "14896894259665252236"
     },
     "user_tz": -540
    },
    "id": "hb8yUYAghqBv",
    "outputId": "4a1dbd9b-825a-4b2a-b8dd-77b49f20cc8c"
   },
   "outputs": [
    {
     "name": "stdout",
     "output_type": "stream",
     "text": [
      "다현 정연 쯔위 사나 지효 "
     ]
    }
   ],
   "source": [
    "##### 데이터 생성\n",
    "\n",
    "node1 = Node()\n",
    "node1.data = \"다현\"\n",
    "\n",
    "node2 = Node()\n",
    "node2.data = \"정연\"\n",
    "node1.link = node2\n",
    "\n",
    "node3 = Node()\n",
    "node3.data = \"쯔위\"\n",
    "node2.link = node3\n",
    "\n",
    "node4 = Node()\n",
    "node4.data = \"사나\"\n",
    "node3.link = node4\n",
    "\n",
    "node5 = Node()\n",
    "node5.data = \"지효\"\n",
    "node4.link = node5\n",
    "\n",
    "# 효율적으로 출력하는 방법\n",
    "current = node1\n",
    "print(current.data, end = ' ')\n",
    "while current.link != None :\n",
    "\t current = current.link\n",
    "\t print(current.data, end = ' ')"
   ]
  },
  {
   "cell_type": "code",
   "execution_count": 4,
   "metadata": {
    "colab": {
     "base_uri": "https://localhost:8080/"
    },
    "executionInfo": {
     "elapsed": 382,
     "status": "ok",
     "timestamp": 1678606559046,
     "user": {
      "displayName": "Hyon Hee Kim",
      "userId": "14896894259665252236"
     },
     "user_tz": -540
    },
    "id": "JRJwNh4ciAdn",
    "outputId": "7e8a7979-724f-4ae5-9442-2f9a74d2d1d5"
   },
   "outputs": [
    {
     "name": "stdout",
     "output_type": "stream",
     "text": [
      "다현 정연 재남 쯔위 사나 지효 "
     ]
    }
   ],
   "source": [
    "##### 재남 데이터 추가\n",
    "\n",
    "class Node() :\n",
    "\tdef __init__ (self) :\n",
    "\t\tself.data = None\n",
    "\t\tself.link = None\n",
    "\n",
    "node1 = Node()\n",
    "node1.data = \"다현\"\n",
    "\n",
    "node2 = Node()\n",
    "node2.data = \"정연\"\n",
    "node1.link = node2\n",
    "\n",
    "node3 = Node()\n",
    "node3.data = \"쯔위\"\n",
    "node2.link = node3\n",
    "\n",
    "node4 = Node()\n",
    "node4.data = \"사나\"\n",
    "node3.link = node4\n",
    "\n",
    "node5 = Node()\n",
    "node5.data = \"지효\"\n",
    "node4.link = node5\n",
    "\n",
    "newNode = Node()\n",
    "newNode.data = \"재남\"\n",
    "newNode.link = node2.link   # '정연 링크' 정보 입력하기\n",
    "node2.link = newNode\n",
    "\n",
    "current = node1\n",
    "print(current.data, end = ' ')\n",
    "while current.link != None :\n",
    "\t current = current.link\n",
    "\t print(current.data, end = ' ')"
   ]
  },
  {
   "cell_type": "code",
   "execution_count": 5,
   "metadata": {
    "colab": {
     "base_uri": "https://localhost:8080/"
    },
    "executionInfo": {
     "elapsed": 363,
     "status": "ok",
     "timestamp": 1678606646882,
     "user": {
      "displayName": "Hyon Hee Kim",
      "userId": "14896894259665252236"
     },
     "user_tz": -540
    },
    "id": "k96OhUDYiG40",
    "outputId": "4079f1bd-36df-446b-dbc5-876238b9bd95"
   },
   "outputs": [
    {
     "name": "stdout",
     "output_type": "stream",
     "text": [
      "다현 정연 사나 지효 "
     ]
    }
   ],
   "source": [
    "###### 데이터 삭제\n",
    "\n",
    "class Node() :\n",
    "\tdef __init__ (self) :\n",
    "\t\tself.data = None\n",
    "\t\tself.link = None\n",
    "\n",
    "node1 = Node()\n",
    "node1.data = \"다현\"\n",
    "\n",
    "node2 = Node()\n",
    "node2.data = \"정연\"\n",
    "node1.link = node2\n",
    "\n",
    "node3 = Node()\n",
    "node3.data = \"쯔위\"\n",
    "node2.link = node3\n",
    "\n",
    "node4 = Node()\n",
    "node4.data = \"사나\"\n",
    "node3.link = node4\n",
    "\n",
    "node5 = Node()\n",
    "node5.data = \"지효\"\n",
    "node4.link = node5\n",
    "\n",
    "node2.link = node3.link \t# 쯔위의 링크를 정연의 링크로 복사\n",
    "del node3 \t\t# 쯔위 삭제\n",
    "\n",
    "current = node1\n",
    "print(current.data, end = ' ')\n",
    "while current.link != None :\n",
    "\t current = current.link\n",
    "\t print(current.data, end = ' ')\n"
   ]
  },
  {
   "cell_type": "code",
   "execution_count": 6,
   "metadata": {
    "colab": {
     "base_uri": "https://localhost:8080/"
    },
    "executionInfo": {
     "elapsed": 354,
     "status": "ok",
     "timestamp": 1678607203679,
     "user": {
      "displayName": "Hyon Hee Kim",
      "userId": "14896894259665252236"
     },
     "user_tz": -540
    },
    "id": "GBU_P9pIic4b",
    "outputId": "a614a640-6f27-42e4-a9f7-02ec4c2407bd",
    "scrolled": true
   },
   "outputs": [
    {
     "name": "stdout",
     "output_type": "stream",
     "text": [
      "다현 정연 쯔위 사나 지효 \n"
     ]
    }
   ],
   "source": [
    "#####단순 연결 리스트 생성\n",
    "\n",
    "## 클래스와 함수 선언 부분 ##\n",
    "class Node() :\n",
    "\tdef __init__ (self) :\n",
    "\t\tself.data = None\n",
    "\t\tself.link = None\n",
    "\n",
    "def printNodes(start) :\n",
    "\tcurrent = start\n",
    "\tif current == None :\n",
    "\t\treturn\n",
    "\tprint(current.data, end = ' ')\n",
    "\twhile current.link != None:\n",
    "\t\tcurrent = current.link\n",
    "\t\tprint(current.data, end = ' ')\n",
    "\tprint()\n",
    "\n",
    "## 전역 변수 선언 부분 ##\n",
    "memory = []\n",
    "head, current, pre = None, None, None\n",
    "dataArray = [\"다현\", \"정연\", \"쯔위\", \"사나\", \"지효\"]\n",
    "\n",
    "## 메인 코드 부분 ##\n",
    "if __name__ == \"__main__\" :\n",
    "\n",
    "\tnode = Node()\t\t# 첫 번째 노드\n",
    "\tnode.data = dataArray[0]\n",
    "\thead = node\n",
    "\tmemory.append(node)\n",
    "\n",
    "\tfor data in dataArray[1:] :\t# 두 번째 이후 노드\n",
    "\t\tpre = node\n",
    "\t\tnode = Node()\n",
    "\t\tnode.data = data\n",
    "\t\tpre.link = node\n",
    "\t\tmemory.append(node)\n",
    "\n",
    "\tprintNodes(head)"
   ]
  },
  {
   "cell_type": "code",
   "execution_count": 7,
   "metadata": {
    "colab": {
     "base_uri": "https://localhost:8080/"
    },
    "executionInfo": {
     "elapsed": 339,
     "status": "ok",
     "timestamp": 1678607403892,
     "user": {
      "displayName": "Hyon Hee Kim",
      "userId": "14896894259665252236"
     },
     "user_tz": -540
    },
    "id": "vbjggX-Pi6PQ",
    "outputId": "819741b8-9c50-4d4a-9d37-31b6a79528f5"
   },
   "outputs": [
    {
     "name": "stdout",
     "output_type": "stream",
     "text": [
      "다현 정연 쯔위 사나 지효 \n"
     ]
    }
   ],
   "source": [
    "####### 노드 삽입\n",
    "\n",
    "## 클래스와 함수 선언 부분 ##\n",
    "class Node() :\n",
    "\tdef __init__ (self) :\n",
    "\t\tself.data = None\n",
    "\t\tself.link = None\n",
    "\n",
    "def printNodes(start) :\n",
    "\tcurrent = start\n",
    "\tif current == None :\n",
    "\t\treturn\n",
    "\tprint(current.data, end = ' ')\n",
    "\twhile current.link != None:\n",
    "\t\tcurrent = current.link\n",
    "\t\tprint(current.data, end = ' ')\n",
    "\tprint()\n",
    "\n",
    "def insertNode(findData, insertData) :\n",
    "\tglobal memory, head, current, pre\n",
    "\n",
    "\tif head.data == findData :      # 첫 번째 노드 삽입\n",
    "\t\tnode = Node()\n",
    "\t\tnode.data = insertData\n",
    "\t\tnode.link = head\n",
    "\t\thead = node\n",
    "\t\treturn\n",
    "\n",
    "\tcurrent = head\n",
    "\twhile current.link != None :    # 중간 노드 삽입\n",
    "\t\tpre = current\n",
    "\t\tcurrent = current.link\n",
    "\t\tif current.data == findData :\n",
    "\t\t\tnode = Node()\n",
    "\t\t\tnode.data = insertData\n",
    "\t\t\tnode.link = current\n",
    "\t\t\tpre.link = node\n",
    "\t\t\treturn\n",
    "\n",
    "\tnode = Node()                   # 마지막 노드 삽입\n",
    "\tnode.data = insertData\n",
    "\tcurrent.link = node\n",
    "\n",
    "## 전역 변수 선언 부분 ##\n",
    "memory = []\n",
    "head, current, pre = None, None, None\n",
    "dataArray = [\"다현\", \"정연\", \"쯔위\", \"사나\", \"지효\"]\n",
    "\n",
    "## 메인 코드 부분 ##\n",
    "if __name__ == \"__main__\" :\n",
    "\n",
    "\tnode = Node()\t\t\t# 첫 번째 노드\n",
    "\tnode.data = dataArray[0]\n",
    "\thead = node\n",
    "\tmemory.append(node)\n",
    "\n",
    "\tfor data in dataArray[1:] :\t\t# 두 번째 노드부터\n",
    "\t\tpre = node\n",
    "\t\tnode = Node()\n",
    "\t\tnode.data = data\n",
    "\t\tpre.link = node\n",
    "\t\tmemory.append(node)\n",
    "\n",
    "\tprintNodes(head)"
   ]
  },
  {
   "cell_type": "code",
   "execution_count": 8,
   "metadata": {
    "colab": {
     "base_uri": "https://localhost:8080/"
    },
    "executionInfo": {
     "elapsed": 358,
     "status": "ok",
     "timestamp": 1678607436409,
     "user": {
      "displayName": "Hyon Hee Kim",
      "userId": "14896894259665252236"
     },
     "user_tz": -540
    },
    "id": "TuFiZm3MzJh6",
    "outputId": "3ad69a8b-1e3c-4004-d348-140b6471d362"
   },
   "outputs": [
    {
     "name": "stdout",
     "output_type": "stream",
     "text": [
      "화사 다현 정연 쯔위 사나 지효 \n"
     ]
    }
   ],
   "source": [
    "\tinsertNode(\"다현\", \"화사\")\n",
    "\tprintNodes(head)"
   ]
  },
  {
   "cell_type": "code",
   "execution_count": 9,
   "metadata": {
    "colab": {
     "base_uri": "https://localhost:8080/"
    },
    "executionInfo": {
     "elapsed": 342,
     "status": "ok",
     "timestamp": 1678607480150,
     "user": {
      "displayName": "Hyon Hee Kim",
      "userId": "14896894259665252236"
     },
     "user_tz": -540
    },
    "id": "ARQVzN2PzUHR",
    "outputId": "0e1b236c-22c9-4ce0-c11f-458124dbc665"
   },
   "outputs": [
    {
     "name": "stdout",
     "output_type": "stream",
     "text": [
      "화사 다현 정연 쯔위 솔라 사나 지효 \n"
     ]
    }
   ],
   "source": [
    "\tinsertNode(\"사나\", \"솔라\")\n",
    "\tprintNodes(head)"
   ]
  },
  {
   "cell_type": "code",
   "execution_count": 10,
   "metadata": {
    "colab": {
     "base_uri": "https://localhost:8080/"
    },
    "executionInfo": {
     "elapsed": 387,
     "status": "ok",
     "timestamp": 1678607543336,
     "user": {
      "displayName": "Hyon Hee Kim",
      "userId": "14896894259665252236"
     },
     "user_tz": -540
    },
    "id": "K1-0VyyszB2U",
    "outputId": "4c8e3120-6a3f-4e9e-e126-52b1bf4e9eb2"
   },
   "outputs": [
    {
     "name": "stdout",
     "output_type": "stream",
     "text": [
      "화사 다현 정연 쯔위 솔라 사나 지효 문별 \n"
     ]
    }
   ],
   "source": [
    "\tinsertNode(\"재남\", \"문별\")\n",
    "\tprintNodes(head)"
   ]
  },
  {
   "cell_type": "code",
   "execution_count": 11,
   "metadata": {
    "colab": {
     "base_uri": "https://localhost:8080/"
    },
    "executionInfo": {
     "elapsed": 360,
     "status": "ok",
     "timestamp": 1678607557849,
     "user": {
      "displayName": "Hyon Hee Kim",
      "userId": "14896894259665252236"
     },
     "user_tz": -540
    },
    "id": "pVpG57_OoCbq",
    "outputId": "83137564-fee1-4690-b274-46149b264218"
   },
   "outputs": [
    {
     "name": "stdout",
     "output_type": "stream",
     "text": [
      "다현 정연 쯔위 사나 지효 \n",
      "정연 쯔위 사나 지효 \n",
      "정연 사나 지효 \n",
      "정연 사나 \n",
      "정연 사나 \n"
     ]
    }
   ],
   "source": [
    "###### 노드 삭제\n",
    "\n",
    "## 클래스와 함수 선언 부분 ##\n",
    "class Node() :\n",
    "\tdef __init__ (self) :\n",
    "\t\tself.data = None\n",
    "\t\tself.link = None\n",
    "\n",
    "def printNodes(start) :\n",
    "\tcurrent = start\n",
    "\tif current == None :\n",
    "\t\treturn\n",
    "\tprint(current.data, end = ' ')\n",
    "\twhile current.link != None:\n",
    "\t\tcurrent = current.link\n",
    "\t\tprint(current.data, end = ' ')\n",
    "\tprint()\n",
    "\n",
    "def deleteNode(deleteData) :\n",
    "\tglobal memory, head, current, pre\n",
    "\n",
    "\tif head.data == deleteData :         # 첫 번째 노드 삭제\n",
    "\t\tcurrent = head\n",
    "\t\thead = head.link\n",
    "\t\tdel(current)\n",
    "\t\treturn\n",
    "\n",
    "\tcurrent = head                          # 첫 번째  외 노드 삭제\n",
    "\twhile current.link != None :\n",
    "\t\tpre = current\n",
    "\t\tcurrent = current.link\n",
    "\t\tif current.data == deleteData :\n",
    "\t\t\tpre.link = current.link\n",
    "\t\t\tdel(current)\n",
    "\t\t\treturn\n",
    "\n",
    "## 전역 변수 선언 부분 ##\n",
    "memory = []\n",
    "head, current, pre = None, None, None\n",
    "dataArray = [\"다현\", \"정연\", \"쯔위\", \"사나\", \"지효\"]\n",
    "\n",
    "## 메인 코드 부분 ##\n",
    "if __name__ == \"__main__\" :\n",
    "\n",
    "\tnode = Node()\t\t\t# 첫 번째 노드\n",
    "\tnode.data = dataArray[0]\n",
    "\thead = node\n",
    "\tmemory.append(node)\n",
    "\n",
    "\tfor data in dataArray[1:] :\t\t# 두 번째 노드부터\n",
    "\t\tpre = node\n",
    "\t\tnode = Node()\n",
    "\t\tnode.data = data\n",
    "\t\tpre.link = node\n",
    "\t\tmemory.append(node)\n",
    "\n",
    "\tprintNodes(head)\n",
    "\n",
    "\tdeleteNode(\"다현\")\n",
    "\tprintNodes(head)\n",
    "\n",
    "\tdeleteNode(\"쯔위\")\n",
    "\tprintNodes(head)\n",
    "\n",
    "\tdeleteNode(\"지효\")\n",
    "\tprintNodes(head)\n",
    "\n",
    "\tdeleteNode(\"재남\")\n",
    "\tprintNodes(head)"
   ]
  },
  {
   "cell_type": "code",
   "execution_count": 12,
   "metadata": {
    "colab": {
     "base_uri": "https://localhost:8080/"
    },
    "executionInfo": {
     "elapsed": 352,
     "status": "ok",
     "timestamp": 1678607657063,
     "user": {
      "displayName": "Hyon Hee Kim",
      "userId": "14896894259665252236"
     },
     "user_tz": -540
    },
    "id": "SccYlhYyoZ9a",
    "outputId": "68f0ce1d-7c88-42f5-9940-127b3b6eabdc"
   },
   "outputs": [
    {
     "name": "stdout",
     "output_type": "stream",
     "text": [
      "다현 정연 쯔위 사나 지효 \n",
      "다현\n",
      "쯔위\n",
      "None\n"
     ]
    }
   ],
   "source": [
    "###### 검색\n",
    "\n",
    "## 클래스와 함수 선언 부분 ##\n",
    "class Node() :\n",
    "\tdef __init__ (self) :\n",
    "\t\tself.data = None\n",
    "\t\tself.link = None\n",
    "\n",
    "def printNodes(start) :\n",
    "\tcurrent = start\n",
    "\tif current == None :\n",
    "\t\treturn\n",
    "\tprint(current.data, end = ' ')\n",
    "\twhile current.link != None:\n",
    "\t\tcurrent = current.link\n",
    "\t\tprint(current.data, end = ' ')\n",
    "\tprint()\n",
    "\n",
    "def findNode(findData) :\n",
    "\tglobal memory, head, current, pre\n",
    "\n",
    "\tcurrent = head\n",
    "\tif current.data == findData :\n",
    "\t\treturn current\n",
    "\twhile current.link != None :\n",
    "\t\tcurrent = current.link\n",
    "\t\tif current.data == findData :\n",
    "\t\t\treturn current\n",
    "\treturn Node()\t# 빈 노드 반환\n",
    "\n",
    "## 전역 변수 선언 부분 ##\n",
    "memory = []\n",
    "head, current, pre = None, None, None\n",
    "dataArray = [\"다현\", \"정연\", \"쯔위\", \"사나\", \"지효\"]\n",
    "\n",
    "## 메인 코드 부분 ##\n",
    "if __name__ == \"__main__\" :\n",
    "\n",
    "\tnode = Node()\t\t\t# 첫 번째 노드\n",
    "\tnode.data = dataArray[0]\n",
    "\thead = node\n",
    "\tmemory.append(node)\n",
    "\n",
    "\tfor data in dataArray[1:] :\t\t# 두 번째 노드부터\n",
    "\t\tpre = node\n",
    "\t\tnode = Node()\n",
    "\t\tnode.data = data\n",
    "\t\tpre.link = node\n",
    "\t\tmemory.append(node)\n",
    "\n",
    "\tprintNodes(head)\n",
    "\n",
    "\tfNode = findNode(\"다현\")\n",
    "\tprint(fNode.data)\n",
    "\n",
    "\tfNode = findNode(\"쯔위\")\n",
    "\tprint(fNode.data)\n",
    "\n",
    "\tfNode = findNode(\"재남\")\n",
    "\tprint(fNode.data)"
   ]
  }
 ],
 "metadata": {
  "colab": {
   "authorship_tag": "ABX9TyMjJS56DnJyBTtDT/SKleVm",
   "provenance": []
  },
  "kernelspec": {
   "display_name": "Python 3 (ipykernel)",
   "language": "python",
   "name": "python3"
  },
  "language_info": {
   "codemirror_mode": {
    "name": "ipython",
    "version": 3
   },
   "file_extension": ".py",
   "mimetype": "text/x-python",
   "name": "python",
   "nbconvert_exporter": "python",
   "pygments_lexer": "ipython3",
   "version": "3.9.12"
  }
 },
 "nbformat": 4,
 "nbformat_minor": 1
}
