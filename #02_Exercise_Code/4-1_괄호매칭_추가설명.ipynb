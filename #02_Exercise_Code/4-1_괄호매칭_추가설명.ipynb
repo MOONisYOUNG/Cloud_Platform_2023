{
 "cells": [
  {
   "cell_type": "code",
   "execution_count": 1,
   "metadata": {
    "executionInfo": {
     "elapsed": 286,
     "status": "ok",
     "timestamp": 1679572441005,
     "user": {
      "displayName": "Hyon Hee Kim",
      "userId": "14896894259665252236"
     },
     "user_tz": -540
    },
    "id": "33fr5D6zR1kF"
   },
   "outputs": [],
   "source": [
    "# 원본 코드 (교수님 ver.)\n",
    "match_dict = {'}': '{', ')': '('}\n",
    "\n",
    "def solution(user_input):\n",
    "    arr = []\n",
    "    for s in user_input:\n",
    "        if s == '(' or s == '{':\n",
    "           arr.append(s)\n",
    "        elif s == ')' or s == '}':\n",
    "            if len(arr) == 0 or arr[len(arr) - 1] != match_dict[s]:\n",
    "                return 0\n",
    "            arr.pop()\n",
    "    if len(arr) != 0:\n",
    "        return 0\n",
    " \n",
    "    return 1\n",
    " "
   ]
  },
  {
   "cell_type": "code",
   "execution_count": 2,
   "metadata": {},
   "outputs": [],
   "source": [
    "# else 추가 코드 (교수님 코드와 의미 상으로 동일함)\n",
    "match_dict = {'}': '{', ')': '('}\n",
    "\n",
    "def solution_2(user_input):\n",
    "    arr = []\n",
    "    for s in user_input:\n",
    "        if s == '(' or s == '{':\n",
    "           arr.append(s)\n",
    "        elif s == ')' or s == '}':\n",
    "            # 괄호 매칭이 안 되었을 때\n",
    "            if len(arr) == 0 or arr[len(arr) - 1] != match_dict[s]:\n",
    "                return 0\n",
    "            # 괄호 매칭이 되었을 떄\n",
    "            else:\n",
    "                arr.pop()\n",
    "    if len(arr) != 0:\n",
    "        return 0\n",
    " \n",
    "    return 1\n",
    " "
   ]
  },
  {
   "cell_type": "code",
   "execution_count": 3,
   "metadata": {
    "scrolled": true
   },
   "outputs": [
    {
     "name": "stdout",
     "output_type": "stream",
     "text": [
      "0\n",
      "0\n"
     ]
    }
   ],
   "source": [
    "print(solution(\"{(a+b) * (c+d)\"))\n",
    "print(solution_2(\"{(a+b) * (c+d)\"))"
   ]
  },
  {
   "cell_type": "code",
   "execution_count": 4,
   "metadata": {},
   "outputs": [
    {
     "name": "stdout",
     "output_type": "stream",
     "text": [
      "1\n",
      "1\n"
     ]
    }
   ],
   "source": [
    "print(solution(\"(a*b)\"))\n",
    "print(solution_2(\"(a*b)\"))"
   ]
  },
  {
   "cell_type": "code",
   "execution_count": 5,
   "metadata": {},
   "outputs": [
    {
     "name": "stdout",
     "output_type": "stream",
     "text": [
      "1\n",
      "1\n"
     ]
    }
   ],
   "source": [
    "print(solution(\"(a+b+d)\"))\n",
    "print(solution_2(\"(a+b+d)\"))"
   ]
  }
 ],
 "metadata": {
  "colab": {
   "authorship_tag": "ABX9TyMpePOJgEkRjYJ+BPy5bBnd",
   "provenance": []
  },
  "kernelspec": {
   "display_name": "Python 3 (ipykernel)",
   "language": "python",
   "name": "python3"
  },
  "language_info": {
   "codemirror_mode": {
    "name": "ipython",
    "version": 3
   },
   "file_extension": ".py",
   "mimetype": "text/x-python",
   "name": "python",
   "nbconvert_exporter": "python",
   "pygments_lexer": "ipython3",
   "version": "3.9.12"
  }
 },
 "nbformat": 4,
 "nbformat_minor": 1
}
