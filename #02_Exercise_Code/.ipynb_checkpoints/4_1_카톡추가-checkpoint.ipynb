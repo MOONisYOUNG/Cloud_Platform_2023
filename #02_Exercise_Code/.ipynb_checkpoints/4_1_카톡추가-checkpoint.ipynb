{
 "cells": [
  {
   "cell_type": "code",
   "execution_count": null,
   "metadata": {
    "id": "o7fiXX7McAJD"
   },
   "outputs": [],
   "source": [
    "## 함수 선언 부분 ##\n",
    "def find_and_insert_data(friend, k_count) :\n",
    "\tfindPos = -1\n",
    "\tfor i in range(len(katok)) :\n",
    "\t\tpair = katok[i]\n",
    "\t\tif k_count >= pair[1] :\n",
    "\t\t\tfindPos = i\n",
    "\t\t\tbreak\n",
    "\tif findPos == -1 :\n",
    "\t\tfindPos = len(katok)\n",
    "\n",
    "\tinsert_data(findPos, (friend, k_count))"
   ]
  },
  {
   "cell_type": "code",
   "execution_count": null,
   "metadata": {
    "id": "4datBvFVcaes"
   },
   "outputs": [],
   "source": [
    "def insert_data(position, friend):\n",
    "\tif position < 0 or position > len(katok):\n",
    "\t\tprint(\"데이터를 삽입할 범위를 벗어났습니다.\")\n",
    "\t\treturn\n",
    "\n",
    "\tkatok.append(None)\t# 빈 칸 추가\n",
    "\tkLen = len(katok)\t\t# 배열의 현재 크기\n",
    "\n",
    "\tfor i in range(kLen - 1, position, -1):\n",
    "\t\tkatok[i] = katok[i - 1]\n",
    "\t\tkatok[i - 1] = None\n",
    "\n",
    "\tkatok[position] = friend"
   ]
  },
  {
   "cell_type": "code",
   "execution_count": null,
   "metadata": {
    "id": "7XGUAAu6cihU"
   },
   "outputs": [],
   "source": [
    "## 전역 변수 선언 부분 ##\n",
    "katok = [('다현', 200), ('정연', 150), ('쯔위', 90), ('사나', 30), ('지효', 15)]"
   ]
  },
  {
   "cell_type": "code",
   "execution_count": null,
   "metadata": {
    "colab": {
     "base_uri": "https://localhost:8080/"
    },
    "id": "YUNPigNJLWzm",
    "outputId": "23b03534-2ec0-448f-f766-9d19d46606d1"
   },
   "outputs": [
    {
     "name": "stdout",
     "output_type": "stream",
     "text": [
      "추가할 친구 이름 입력 혹은 끝내기 입력--> 현희\n",
      "카톡 횟수--> 50\n",
      "[('다현', 200), ('정연', 150), ('현희', 130), ('현희', 100), ('쯔위', 90), ('현희', 50), ('사나', 30), ('지효', 15)]\n",
      "추가할 친구 이름 혹은 끝내기 입력--> 현진\n",
      "카톡 횟수--> 20\n",
      "[('다현', 200), ('정연', 150), ('현희', 130), ('현희', 100), ('쯔위', 90), ('현희', 50), ('사나', 30), ('현진', 20), ('지효', 15)]\n",
      "추가할 친구 이름 혹은 끝내기 입력--> 끝내기\n"
     ]
    }
   ],
   "source": [
    "## 메인 코드 부분 ##\n",
    "if __name__ == \"__main__\":\n",
    "    data = input(\"추가할 친구 이름 입력 혹은 끝내기 입력--> \")\n",
    "    while (data != '끝내기') :\n",
    "        count = int(input(\"카톡 횟수--> \"))\n",
    "        find_and_insert_data(data, count)\n",
    "        print(katok)\n",
    "        data = input(\"추가할 친구 이름 혹은 끝내기 입력--> \")"
   ]
  }
 ],
 "metadata": {
  "colab": {
   "provenance": []
  },
  "kernelspec": {
   "display_name": "Python 3 (ipykernel)",
   "language": "python",
   "name": "python3"
  },
  "language_info": {
   "codemirror_mode": {
    "name": "ipython",
    "version": 3
   },
   "file_extension": ".py",
   "mimetype": "text/x-python",
   "name": "python",
   "nbconvert_exporter": "python",
   "pygments_lexer": "ipython3",
   "version": "3.9.12"
  }
 },
 "nbformat": 4,
 "nbformat_minor": 1
}
