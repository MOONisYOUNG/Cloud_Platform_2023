{
 "cells": [
  {
   "cell_type": "code",
   "execution_count": 1,
   "metadata": {
    "executionInfo": {
     "elapsed": 286,
     "status": "ok",
     "timestamp": 1679572441005,
     "user": {
      "displayName": "Hyon Hee Kim",
      "userId": "14896894259665252236"
     },
     "user_tz": -540
    },
    "id": "33fr5D6zR1kF"
   },
   "outputs": [],
   "source": [
    "# 원본 코드 (교수님 ver.)\n",
    "match_dict = {'}': '{', ')': '('}\n",
    "\n",
    "def solution(user_input):\n",
    "    arr = []\n",
    "    for s in user_input:\n",
    "        if s == '(' or s == '{':\n",
    "           arr.append(s)\n",
    "        elif s == ')' or s == '}':\n",
    "            if len(arr) == 0 or arr[len(arr) - 1] != match_dict[s]:\n",
    "                return 0\n",
    "            arr.pop()\n",
    "    if len(arr) != 0:\n",
    "        return 0\n",
    " \n",
    "    return 1\n",
    " "
   ]
  },
  {
   "cell_type": "code",
   "execution_count": 2,
   "metadata": {},
   "outputs": [],
   "source": [
    "# else 추가 코드 (교수님 코드와 의미 상으로 동일함)\n",
    "match_dict = {'}': '{', ')': '('}\n",
    "\n",
    "def solution_2(user_input):\n",
    "    arr = []\n",
    "    for s in user_input:\n",
    "        if s == '(' or s == '{':\n",
    "           arr.append(s)\n",
    "        elif s == ')' or s == '}':\n",
    "            if len(arr) == 0 or arr[len(arr) - 1] != match_dict[s]:\n",
    "                return 0\n",
    "            else:\n",
    "                arr.pop()\n",
    "    if len(arr) != 0:\n",
    "        return 0\n",
    " \n",
    "    return 1\n",
    " "
   ]
  },
  {
   "cell_type": "code",
   "execution_count": 3,
   "metadata": {
    "scrolled": true
   },
   "outputs": [
    {
     "name": "stdout",
     "output_type": "stream",
     "text": [
      "0\n",
      "0\n"
     ]
    }
   ],
   "source": [
    "print(solution(\"{(a+b) * (c+d)\"))\n",
    "print(solution_2(\"{(a+b) * (c+d)\"))"
   ]
  },
  {
   "cell_type": "code",
   "execution_count": 4,
   "metadata": {},
   "outputs": [
    {
     "name": "stdout",
     "output_type": "stream",
     "text": [
      "1\n",
      "1\n"
     ]
    }
   ],
   "source": [
    "print(solution(\"(a*b)\"))\n",
    "print(solution_2(\"(a*b)\"))"
   ]
  },
  {
   "cell_type": "code",
   "execution_count": 5,
   "metadata": {},
   "outputs": [
    {
     "name": "stdout",
     "output_type": "stream",
     "text": [
      "1\n",
      "1\n"
     ]
    }
   ],
   "source": [
    "print(solution(\"(a+b+d)\"))\n",
    "print(solution_2(\"(a+b+d)\"))"
   ]
  },
  {
   "cell_type": "code",
   "execution_count": 5,
   "metadata": {
    "colab": {
     "base_uri": "https://localhost:8080/"
    },
    "executionInfo": {
     "elapsed": 14322,
     "status": "ok",
     "timestamp": 1679572183043,
     "user": {
      "displayName": "Hyon Hee Kim",
      "userId": "14896894259665252236"
     },
     "user_tz": -540
    },
    "id": "UUYM3ZZTTTqM",
    "outputId": "3391cfb3-048c-4cf7-e394-de299fde9846",
    "scrolled": true
   },
   "outputs": [
    {
     "name": "stdout",
     "output_type": "stream",
     "text": [
      "{(a+b) * (c+d)\n"
     ]
    },
    {
     "data": {
      "text/plain": [
       "0"
      ]
     },
     "execution_count": 5,
     "metadata": {},
     "output_type": "execute_result"
    }
   ],
   "source": [
    "solution(input())"
   ]
  },
  {
   "cell_type": "code",
   "execution_count": 9,
   "metadata": {
    "colab": {
     "base_uri": "https://localhost:8080/"
    },
    "executionInfo": {
     "elapsed": 14982,
     "status": "ok",
     "timestamp": 1679572576028,
     "user": {
      "displayName": "Hyon Hee Kim",
      "userId": "14896894259665252236"
     },
     "user_tz": -540
    },
    "id": "gDo3RgdjUzNL",
    "outputId": "7ef11591-659e-4f31-dc2f-215b2782d413"
   },
   "outputs": [
    {
     "name": "stdout",
     "output_type": "stream",
     "text": [
      "2\n",
      "(a*b)\n",
      "#1 1\n",
      "(a+b+d)\n",
      "#2 1\n"
     ]
    }
   ],
   "source": [
    "for t in range(int(input())):\n",
    "    print('#{} {}'.format(t+1, solution(input())))"
   ]
  }
 ],
 "metadata": {
  "colab": {
   "authorship_tag": "ABX9TyMpePOJgEkRjYJ+BPy5bBnd",
   "provenance": []
  },
  "kernelspec": {
   "display_name": "Python 3 (ipykernel)",
   "language": "python",
   "name": "python3"
  },
  "language_info": {
   "codemirror_mode": {
    "name": "ipython",
    "version": 3
   },
   "file_extension": ".py",
   "mimetype": "text/x-python",
   "name": "python",
   "nbconvert_exporter": "python",
   "pygments_lexer": "ipython3",
   "version": "3.9.12"
  }
 },
 "nbformat": 4,
 "nbformat_minor": 1
}
