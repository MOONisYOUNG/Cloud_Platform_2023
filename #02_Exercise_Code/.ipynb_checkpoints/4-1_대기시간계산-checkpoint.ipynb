{
 "cells": [
  {
   "cell_type": "code",
   "execution_count": 1,
   "metadata": {
    "executionInfo": {
     "elapsed": 2,
     "status": "ok",
     "timestamp": 1679917030523,
     "user": {
      "displayName": "Hyon Hee Kim",
      "userId": "14896894259665252236"
     },
     "user_tz": -540
    },
    "id": "1vRqDNj6VCMx"
   },
   "outputs": [],
   "source": [
    "## 함수 선언 부분 ##\n",
    "def isQueueFull() :\n",
    "\tglobal SIZE, queue, front, rear\n",
    "\tif ( (rear + 1) % SIZE == front) :\n",
    "\t\treturn True\n",
    "\telse :\n",
    "\t\treturn False"
   ]
  },
  {
   "cell_type": "code",
   "execution_count": 2,
   "metadata": {
    "executionInfo": {
     "elapsed": 2,
     "status": "ok",
     "timestamp": 1679917032473,
     "user": {
      "displayName": "Hyon Hee Kim",
      "userId": "14896894259665252236"
     },
     "user_tz": -540
    },
    "id": "qjpF8M8zWcOL"
   },
   "outputs": [],
   "source": [
    "def isQueueEmpty() :\n",
    "\tglobal SIZE, queue, front, rear\n",
    "\tif (front == rear) :\n",
    "\t\treturn True\n",
    "\telse :\n",
    "\t\treturn False"
   ]
  },
  {
   "cell_type": "code",
   "execution_count": 3,
   "metadata": {
    "executionInfo": {
     "elapsed": 1,
     "status": "ok",
     "timestamp": 1679917036397,
     "user": {
      "displayName": "Hyon Hee Kim",
      "userId": "14896894259665252236"
     },
     "user_tz": -540
    },
    "id": "-1fILHO-WhK1"
   },
   "outputs": [],
   "source": [
    "def enQueue(data) :\n",
    "\tglobal SIZE, queue, front, rear\n",
    "\tif (isQueueFull()) :\n",
    "\t\tprint(\"큐가 꽉 찼습니다.\")\n",
    "\t\treturn\n",
    "\trear = (rear + 1) % SIZE\n",
    "\tqueue[rear] = data"
   ]
  },
  {
   "cell_type": "code",
   "execution_count": 4,
   "metadata": {
    "executionInfo": {
     "elapsed": 309,
     "status": "ok",
     "timestamp": 1679917039378,
     "user": {
      "displayName": "Hyon Hee Kim",
      "userId": "14896894259665252236"
     },
     "user_tz": -540
    },
    "id": "N6c3jzJkWjk4"
   },
   "outputs": [],
   "source": [
    "def deQueue() :\n",
    "\tglobal SIZE, queue, front, rear\n",
    "\tif (isQueueEmpty()) :\n",
    "\t\tprint(\"큐가 비었습니다.\")\n",
    "\t\treturn None\n",
    "\tfront = (front + 1) % SIZE\n",
    "\tdata = queue[front]\n",
    "\tqueue[front] = None\n",
    "\treturn data"
   ]
  },
  {
   "cell_type": "code",
   "execution_count": 5,
   "metadata": {
    "executionInfo": {
     "elapsed": 2,
     "status": "ok",
     "timestamp": 1679917041854,
     "user": {
      "displayName": "Hyon Hee Kim",
      "userId": "14896894259665252236"
     },
     "user_tz": -540
    },
    "id": "o-YC1KYeWmWn"
   },
   "outputs": [],
   "source": [
    "def peek() :\n",
    "\tglobal SIZE, queue, front, rear\n",
    "\tif (isQueueEmpty()) :\n",
    "\t\tprint(\"큐가 비었습니다.\")\n",
    "\t\treturn None\n",
    "\treturn queue[(front + 1) % SIZE]"
   ]
  },
  {
   "cell_type": "code",
   "execution_count": 6,
   "metadata": {
    "executionInfo": {
     "elapsed": 352,
     "status": "ok",
     "timestamp": 1679917043683,
     "user": {
      "displayName": "Hyon Hee Kim",
      "userId": "14896894259665252236"
     },
     "user_tz": -540
    },
    "id": "SYmGJ1YXWpKx"
   },
   "outputs": [],
   "source": [
    "def calcTime() :\n",
    "\tglobal SIZE, queue, front, rear\n",
    "\ttimeSum = 0\n",
    "\tfor i in range((front+1)% SIZE, (rear+1)%SIZE) :\n",
    "\t\ttimeSum += queue[i][1]\n",
    "\treturn timeSum"
   ]
  },
  {
   "cell_type": "code",
   "execution_count": 7,
   "metadata": {
    "executionInfo": {
     "elapsed": 471,
     "status": "ok",
     "timestamp": 1679917051101,
     "user": {
      "displayName": "Hyon Hee Kim",
      "userId": "14896894259665252236"
     },
     "user_tz": -540
    },
    "id": "iltbACXgWsb4"
   },
   "outputs": [],
   "source": [
    "## 전역 변수 선언 부분 ##\n",
    "SIZE = 6\n",
    "queue = [ None for _ in range(SIZE) ]\n",
    "front = rear = 0"
   ]
  },
  {
   "cell_type": "code",
   "execution_count": 8,
   "metadata": {
    "colab": {
     "base_uri": "https://localhost:8080/"
    },
    "executionInfo": {
     "elapsed": 280,
     "status": "ok",
     "timestamp": 1679917053894,
     "user": {
      "displayName": "Hyon Hee Kim",
      "userId": "14896894259665252236"
     },
     "user_tz": -540
    },
    "id": "Lb_klcL3WwYj",
    "outputId": "71bebb2e-e8c7-4f14-bd75-ea9a13f13699"
   },
   "outputs": [
    {
     "name": "stdout",
     "output_type": "stream",
     "text": [
      "귀하의 대기 예상시간은  0 분입니다.\n",
      "현재 대기 콜 -->  [None, None, None, None, None, None]\n",
      "\n",
      "귀하의 대기 예상시간은  9 분입니다.\n",
      "현재 대기 콜 -->  [None, ('사용', 9), None, None, None, None]\n",
      "\n",
      "귀하의 대기 예상시간은  12 분입니다.\n",
      "현재 대기 콜 -->  [None, ('사용', 9), ('고장', 3), None, None, None]\n",
      "\n",
      "귀하의 대기 예상시간은  16 분입니다.\n",
      "현재 대기 콜 -->  [None, ('사용', 9), ('고장', 3), ('환불', 4), None, None]\n",
      "\n",
      "귀하의 대기 예상시간은  20 분입니다.\n",
      "현재 대기 콜 -->  [None, ('사용', 9), ('고장', 3), ('환불', 4), ('환불', 4), None]\n",
      "\n",
      "최종 대기 콜 -->  [None, ('사용', 9), ('고장', 3), ('환불', 4), ('환불', 4), ('고장', 3)]\n",
      "프로그램 종료!\n"
     ]
    }
   ],
   "source": [
    "## 메인 코드 부분 ##\n",
    "if __name__ == \"__main__\" :\n",
    "\twaitCall = [('사용', 9), ('고장', 3), ('환불', 4), ('환불', 4), ('고장', 3)]\n",
    "\n",
    "\tfor call in waitCall :\n",
    "\t\tprint(\"귀하의 대기 예상시간은 \", calcTime(), \"분입니다.\")\n",
    "\t\tprint(\"현재 대기 콜 --> \", queue)\n",
    "\t\tenQueue(call)\n",
    "\t\tprint()\n",
    "\n",
    "\tprint(\"최종 대기 콜 --> \", queue)\n",
    "\tprint(\"프로그램 종료!\")"
   ]
  }
 ],
 "metadata": {
  "colab": {
   "provenance": []
  },
  "kernelspec": {
   "display_name": "Python 3 (ipykernel)",
   "language": "python",
   "name": "python3"
  },
  "language_info": {
   "codemirror_mode": {
    "name": "ipython",
    "version": 3
   },
   "file_extension": ".py",
   "mimetype": "text/x-python",
   "name": "python",
   "nbconvert_exporter": "python",
   "pygments_lexer": "ipython3",
   "version": "3.9.12"
  }
 },
 "nbformat": 4,
 "nbformat_minor": 1
}
