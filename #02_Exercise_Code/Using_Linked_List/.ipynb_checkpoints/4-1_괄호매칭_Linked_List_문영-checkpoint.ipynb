{
 "cells": [
  {
   "cell_type": "markdown",
   "id": "c78e777a",
   "metadata": {},
   "source": [
    "## 👉 함수 및 클래스 정의"
   ]
  },
  {
   "cell_type": "code",
   "execution_count": 1,
   "id": "4093b076",
   "metadata": {},
   "outputs": [],
   "source": [
    "class Node:\n",
    "    def __init__(self):\n",
    "        self.data = None\n",
    "        self.link = None\n",
    "\n",
    "class Stack_made_by_Linked_List:\n",
    "    def __init__(self):\n",
    "        self.top = None\n",
    "\n",
    "    def push(self, data):\n",
    "        new_node = Node()\n",
    "        new_node.data = data\n",
    "        \n",
    "        if self.top is None:\n",
    "            self.top = new_node\n",
    "        else:\n",
    "            new_node.link = self.top\n",
    "            self.top = new_node\n",
    "\n",
    "    def pop(self):\n",
    "        if self.top is None:\n",
    "            return\n",
    "        else:\n",
    "            popped_node = self.top\n",
    "            self.top = self.top.link\n",
    "            popped_node.link = None\n",
    "            return popped_node.data\n",
    "\n",
    "    def peek(self):\n",
    "        if self.top is None:\n",
    "            return\n",
    "        else:\n",
    "            return self.top.data\n",
    "\n",
    "    def is_empty(self):\n",
    "        return self.top is None"
   ]
  },
  {
   "cell_type": "markdown",
   "id": "8e33dd25",
   "metadata": {},
   "source": [
    "## ✅ 결과 확인하기"
   ]
  },
  {
   "cell_type": "code",
   "execution_count": 2,
   "id": "983de831",
   "metadata": {},
   "outputs": [],
   "source": [
    "match_dict = {'}' : '{', ')' : '('}\n",
    "\n",
    "def solution(user_input):\n",
    "    stack = Stack_made_by_Linked_List()\n",
    "    \n",
    "    for s in user_input:\n",
    "        if s == '(' or s == '{':\n",
    "            stack.push(s)\n",
    "        elif s == ')' or s == '}':\n",
    "            if stack.is_empty() or (stack.peek() != match_dict[s]):\n",
    "                return 0\n",
    "            stack.pop()\n",
    "    if not stack.is_empty():\n",
    "        return 0\n",
    "    \n",
    "    return 1"
   ]
  },
  {
   "cell_type": "code",
   "execution_count": 3,
   "id": "d51f6552",
   "metadata": {
    "scrolled": true
   },
   "outputs": [
    {
     "name": "stdout",
     "output_type": "stream",
     "text": [
      "{(a+b) * (c+d)\n"
     ]
    },
    {
     "data": {
      "text/plain": [
       "0"
      ]
     },
     "execution_count": 3,
     "metadata": {},
     "output_type": "execute_result"
    }
   ],
   "source": [
    "solution(input())"
   ]
  },
  {
   "cell_type": "code",
   "execution_count": 4,
   "id": "ab74a519",
   "metadata": {
    "scrolled": true
   },
   "outputs": [
    {
     "name": "stdout",
     "output_type": "stream",
     "text": [
      "2\n",
      "(a*b)\n",
      "#1 1\n",
      "(a+b+d)\n",
      "#2 1\n"
     ]
    }
   ],
   "source": [
    "for t in range(int(input())):\n",
    "    print('#{} {}'.format(t+1, solution(input())))"
   ]
  }
 ],
 "metadata": {
  "kernelspec": {
   "display_name": "Python 3 (ipykernel)",
   "language": "python",
   "name": "python3"
  },
  "language_info": {
   "codemirror_mode": {
    "name": "ipython",
    "version": 3
   },
   "file_extension": ".py",
   "mimetype": "text/x-python",
   "name": "python",
   "nbconvert_exporter": "python",
   "pygments_lexer": "ipython3",
   "version": "3.9.12"
  }
 },
 "nbformat": 4,
 "nbformat_minor": 5
}
