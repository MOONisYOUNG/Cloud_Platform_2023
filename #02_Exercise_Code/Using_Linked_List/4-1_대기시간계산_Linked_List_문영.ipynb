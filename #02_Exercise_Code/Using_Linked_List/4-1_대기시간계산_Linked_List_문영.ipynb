{
 "cells": [
  {
   "cell_type": "markdown",
   "id": "39ee89b5",
   "metadata": {},
   "source": [
    "## 👉 함수 및 클래스 정의"
   ]
  },
  {
   "cell_type": "code",
   "execution_count": 1,
   "id": "4358b9a6",
   "metadata": {},
   "outputs": [],
   "source": [
    "class Node:\n",
    "    def __init__(self, data):\n",
    "        self.data = data\n",
    "        self.link = None\n",
    "\n",
    "class  CircularQueue_made_by_Linked_List:\n",
    "    def __init__(self, k):\n",
    "        self.k = k  # 원형 큐의 크기\n",
    "        self.size = 0  # 큐의 현재 크기\n",
    "        self.time = 0\n",
    "        self.head = None \n",
    "        self.tail = None \n",
    "    \n",
    "    def enqueue(self, data):\n",
    "        if self.is_full():\n",
    "            return False\n",
    "        \n",
    "        new_node = Node(data)\n",
    "        if self.is_empty():\n",
    "            self.head = new_node\n",
    "        else:\n",
    "            self.tail.link = new_node\n",
    "        self.tail = new_node\n",
    "        self.tail.link = self.head\n",
    "        self.size += 1\n",
    "        self.time += data[1]\n",
    "        \n",
    "        return True\n",
    "    \n",
    "    def dequeue(self):\n",
    "        if self.is_empty():\n",
    "            return False\n",
    "        \n",
    "        removed_node = self.head\n",
    "        if self.size == 1:\n",
    "            self.head = None\n",
    "            self.tail = None\n",
    "        else:\n",
    "            self.head = removed_node.link\n",
    "            self.tail.next = self.head\n",
    "        self.size -= 1\n",
    "        self.time -= data[1]\n",
    "        \n",
    "        return removed_node.data\n",
    "    \n",
    "    def is_empty(self):\n",
    "        return self.size == 0\n",
    "    \n",
    "    def is_full(self):\n",
    "        return self.size == self.k\n",
    "    \n",
    "    def printNodes(self):\n",
    "        cnt = 0\n",
    "        current = self.head\n",
    "        if current == None:\n",
    "            return\n",
    "        print(current.data, end=' ')\n",
    "        cnt += 1\n",
    "        while cnt != self.size:\n",
    "            current = current.link\n",
    "            print(current.data, end=' ')\n",
    "            cnt += 1\n",
    "        print()"
   ]
  },
  {
   "cell_type": "markdown",
   "id": "2ac0e37d",
   "metadata": {},
   "source": [
    "## ✅ 결과 확인하기"
   ]
  },
  {
   "cell_type": "code",
   "execution_count": 2,
   "id": "7192da18",
   "metadata": {},
   "outputs": [
    {
     "name": "stdout",
     "output_type": "stream",
     "text": [
      "귀하의 대기 예상시간은  0 분입니다.\n",
      "현재 대기 콜 -->  \n",
      "\n",
      "귀하의 대기 예상시간은  9 분입니다.\n",
      "현재 대기 콜 -->  ('사용', 9) \n",
      "\n",
      "\n",
      "귀하의 대기 예상시간은  12 분입니다.\n",
      "현재 대기 콜 -->  ('사용', 9) ('고장', 3) \n",
      "\n",
      "\n",
      "귀하의 대기 예상시간은  16 분입니다.\n",
      "현재 대기 콜 -->  ('사용', 9) ('고장', 3) ('환불', 4) \n",
      "\n",
      "\n",
      "귀하의 대기 예상시간은  20 분입니다.\n",
      "현재 대기 콜 -->  ('사용', 9) ('고장', 3) ('환불', 4) ('환불', 4) \n",
      "\n",
      "\n",
      "----------------------------------------------------------------\n",
      "최종 대기 콜 -->  ('사용', 9) ('고장', 3) ('환불', 4) ('환불', 4) ('고장', 3) \n",
      "프로그램 종료!\n"
     ]
    }
   ],
   "source": [
    "## 메인 코드 부분 ##\n",
    "if __name__ == \"__main__\" :\n",
    "    waitCall = [('사용', 9), ('고장', 3), ('환불', 4), ('환불', 4), ('고장', 3)]\n",
    "    \n",
    "    CircularQueue = CircularQueue_made_by_Linked_List(k=len(waitCall))\n",
    "\n",
    "    for call in waitCall :\n",
    "        print(\"귀하의 대기 예상시간은 \", CircularQueue.time, \"분입니다.\")\n",
    "        print(f\"현재 대기 콜 --> \", end=' ')\n",
    "        CircularQueue.printNodes()\n",
    "        print('\\n')\n",
    "        CircularQueue.enqueue(call)\n",
    "\n",
    "        \n",
    "    print(\"----------------------------------------------------------------\")\n",
    "    print(\"최종 대기 콜 --> \", end=' ')\n",
    "    CircularQueue.printNodes()\n",
    "    print(\"프로그램 종료!\")"
   ]
  }
 ],
 "metadata": {
  "kernelspec": {
   "display_name": "Python 3 (ipykernel)",
   "language": "python",
   "name": "python3"
  },
  "language_info": {
   "codemirror_mode": {
    "name": "ipython",
    "version": 3
   },
   "file_extension": ".py",
   "mimetype": "text/x-python",
   "name": "python",
   "nbconvert_exporter": "python",
   "pygments_lexer": "ipython3",
   "version": "3.9.12"
  }
 },
 "nbformat": 4,
 "nbformat_minor": 5
}
