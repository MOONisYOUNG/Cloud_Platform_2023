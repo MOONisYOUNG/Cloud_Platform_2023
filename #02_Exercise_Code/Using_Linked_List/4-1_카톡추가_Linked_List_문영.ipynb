{
 "cells": [
  {
   "cell_type": "markdown",
   "id": "4cb486a4",
   "metadata": {},
   "source": [
    "## 👉 함수 및 클래스 정의"
   ]
  },
  {
   "cell_type": "code",
   "execution_count": 1,
   "id": "cbbf8fc6",
   "metadata": {},
   "outputs": [],
   "source": [
    "class Node:\n",
    "    def __init__(self):\n",
    "        self.data = None\n",
    "        self.link = None"
   ]
  },
  {
   "cell_type": "code",
   "execution_count": 2,
   "id": "1d32f7e9",
   "metadata": {},
   "outputs": [],
   "source": [
    "def printNodes(start):\n",
    "    current = start\n",
    "    if current == None:\n",
    "        return\n",
    "    print(current.data, end=' ')\n",
    "    while current.link != None:\n",
    "        current = current.link\n",
    "        print(current.data, end=' ')\n",
    "    print()"
   ]
  },
  {
   "cell_type": "code",
   "execution_count": 3,
   "id": "905d3071",
   "metadata": {},
   "outputs": [],
   "source": [
    "# 개조 방식 \n",
    "def insertNode(insertData):\n",
    "    global memory, head, current, pre\n",
    "    \n",
    "    if insertData[1] >= head.data[1]:\n",
    "        node = Node()\n",
    "        node.data = insertData\n",
    "        node.link = head\n",
    "        head = node\n",
    "        return\n",
    "    \n",
    "    current = head\n",
    "    while current.link != None:\n",
    "        pre = current\n",
    "        current = current.link\n",
    "        if insertData[1] >= current.data[1]:\n",
    "            node = Node()\n",
    "            node.data = insertData\n",
    "            node.link = current\n",
    "            pre.link = node\n",
    "            return\n",
    "    \n",
    "    node = Node()\n",
    "    node.data = insertData\n",
    "    current.link = node"
   ]
  },
  {
   "cell_type": "code",
   "execution_count": 4,
   "id": "426fcc80",
   "metadata": {},
   "outputs": [],
   "source": [
    "def deleteNode(deleteData):\n",
    "    global memory, head, current, pre\n",
    "    \n",
    "    if head.data == deleteData:\n",
    "        current = head\n",
    "        head = head.link\n",
    "        del(current)\n",
    "        return\n",
    "    \n",
    "    current = head\n",
    "    while current.link != None:\n",
    "        pre = current\n",
    "        current = current.link\n",
    "        if current.data == deleteData:\n",
    "            pre.link = current.link\n",
    "            del(current)\n",
    "            return"
   ]
  },
  {
   "cell_type": "code",
   "execution_count": 5,
   "id": "a33292f0",
   "metadata": {},
   "outputs": [],
   "source": [
    "def findNode(findData):\n",
    "    global memory, head, current, pre\n",
    "    \n",
    "    current = head\n",
    "    if current.data == findData:\n",
    "        return current\n",
    "    while current.link != None:\n",
    "        current = current.link\n",
    "        if current.data == findData:\n",
    "            return current\n",
    "    return Node()"
   ]
  },
  {
   "cell_type": "markdown",
   "id": "9fd459b7",
   "metadata": {},
   "source": [
    "## ✅ 결과 확인하기"
   ]
  },
  {
   "cell_type": "code",
   "execution_count": 6,
   "id": "d44e2736",
   "metadata": {},
   "outputs": [],
   "source": [
    "memory = []\n",
    "head, current, pre = None, None, None\n",
    "dataArray = [(\"다현\", 200), (\"정연\", 150), (\"쯔위\", 90), (\"지효\", 15)]"
   ]
  },
  {
   "cell_type": "code",
   "execution_count": 7,
   "id": "09af77c9",
   "metadata": {
    "scrolled": false
   },
   "outputs": [
    {
     "name": "stdout",
     "output_type": "stream",
     "text": [
      "추가할 친구 이름 입력 혹은 끝내기 입력 --> 미나\n",
      "카톡 횟수 --> 40\n",
      "('다현', 200) ('정연', 150) ('쯔위', 90) ('미나', 40) ('지효', 15) \n",
      "\n",
      "\n",
      "추가할 친구 이름 혹은 끝내기 입력--> 끝내기\n",
      "\n",
      "----------------------------최종----------------------------\n",
      "('다현', 200) ('정연', 150) ('쯔위', 90) ('미나', 40) ('지효', 15) \n"
     ]
    }
   ],
   "source": [
    "if __name__ == \"__main__\":    \n",
    "    node = Node()\n",
    "    node.data = dataArray[0]\n",
    "    head = node\n",
    "    memory.append(node)\n",
    "\n",
    "    for data in dataArray[1:]:\n",
    "        insertNode(data)\n",
    "        \n",
    "    data = input(\"추가할 친구 이름 입력 혹은 끝내기 입력 --> \")\n",
    "    while (data != \"끝내기\"):\n",
    "        count = int(input(\"카톡 횟수 --> \"))\n",
    "        insertNode((data, count))\n",
    "        printNodes(head)\n",
    "        print('\\n')\n",
    "        data = input(\"추가할 친구 이름 혹은 끝내기 입력--> \")\n",
    "    \n",
    "    print(\"\\n----------------------------최종----------------------------\")\n",
    "    printNodes(head)"
   ]
  }
 ],
 "metadata": {
  "kernelspec": {
   "display_name": "Python 3 (ipykernel)",
   "language": "python",
   "name": "python3"
  },
  "language_info": {
   "codemirror_mode": {
    "name": "ipython",
    "version": 3
   },
   "file_extension": ".py",
   "mimetype": "text/x-python",
   "name": "python",
   "nbconvert_exporter": "python",
   "pygments_lexer": "ipython3",
   "version": "3.9.12"
  }
 },
 "nbformat": 4,
 "nbformat_minor": 5
}
