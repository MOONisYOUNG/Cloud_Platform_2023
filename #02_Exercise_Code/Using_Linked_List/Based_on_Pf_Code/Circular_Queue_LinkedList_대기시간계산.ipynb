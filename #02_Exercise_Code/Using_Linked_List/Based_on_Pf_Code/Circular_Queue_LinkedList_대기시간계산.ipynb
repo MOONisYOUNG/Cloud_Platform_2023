{
 "cells": [
  {
   "cell_type": "code",
   "execution_count": 2,
   "metadata": {
    "id": "SJnTOcYUxCK3"
   },
   "outputs": [],
   "source": [
    "class Node:\n",
    "    def __init__(self, data):\n",
    "        self.data = data\n",
    "        self.next = None\n",
    "\n",
    "class Circular_Queue():\n",
    "    def __init__(self, k):\n",
    "        self.k = k\n",
    "        self.size = 0\n",
    "        self.time = 0\n",
    "        self.front = None\n",
    "        self.rear = None\n",
    "        \n",
    "    def enqueue(self, data):\n",
    "        new_node = Node(data)\n",
    "        \n",
    "        if self.front is None:\n",
    "            self.front = new_node\n",
    "            self.rear = new_node\n",
    "        else:\n",
    "            self.rear.next = new_node\n",
    "            self.rear = self.rear.next\n",
    "        self.rear.next = self.front\n",
    "        self.size += 1\n",
    "        self.time += data[1]\n",
    "        \n",
    "    def dequeue(self):\n",
    "        dequeue_object = None\n",
    "        if self.isEmpty():\n",
    "            print(\"Queue is Empty\")\n",
    "        else:\n",
    "            dequeue_object = self.front.data\n",
    "            if self.size == 1:\n",
    "                self.front = None\n",
    "                self.rear = None\n",
    "            else:\n",
    "                self.front = dequeue_object.next\n",
    "                self.rear.next = self.head\n",
    "            self.size -= 1\n",
    "            self.time -= data[1]\n",
    "        return dequeue_object\n",
    "    \n",
    "    \n",
    "    def peek(self):\n",
    "        front_object = None\n",
    "        if self.isEmpty():\n",
    "            print(\"Queue is Empty\")\n",
    "        else:\n",
    "            front_object = self.front.data            \n",
    "        return front_object\n",
    "    \n",
    "    def isEmpty(self):\n",
    "        is_empty = False\n",
    "        if self.front is None:\n",
    "            is_empty = True\n",
    "        return is_empty\n",
    "    \n",
    "    \n",
    "    def printNodes(self):\n",
    "        cnt = 0\n",
    "        current = self.front\n",
    "        if current == None:\n",
    "            return\n",
    "        print(current.data, end=' ')\n",
    "        cnt += 1\n",
    "        while cnt != self.size:\n",
    "            current = current.next\n",
    "            print(current.data, end=' ')\n",
    "            cnt += 1\n",
    "        print()"
   ]
  },
  {
   "cell_type": "code",
   "execution_count": 3,
   "metadata": {
    "id": "6dMhbmSXxEr-"
   },
   "outputs": [
    {
     "name": "stdout",
     "output_type": "stream",
     "text": [
      "귀하의 대기 예상시간은  0 분입니다.\n",
      "현재 대기 콜 -->  \n",
      "\n",
      "귀하의 대기 예상시간은  9 분입니다.\n",
      "현재 대기 콜 -->  ('사용', 9) \n",
      "\n",
      "\n",
      "귀하의 대기 예상시간은  12 분입니다.\n",
      "현재 대기 콜 -->  ('사용', 9) ('고장', 3) \n",
      "\n",
      "\n",
      "귀하의 대기 예상시간은  16 분입니다.\n",
      "현재 대기 콜 -->  ('사용', 9) ('고장', 3) ('환불', 4) \n",
      "\n",
      "\n",
      "귀하의 대기 예상시간은  20 분입니다.\n",
      "현재 대기 콜 -->  ('사용', 9) ('고장', 3) ('환불', 4) ('환불', 4) \n",
      "\n",
      "\n",
      "----------------------------------------------------------------\n",
      "최종 대기 콜 -->  ('사용', 9) ('고장', 3) ('환불', 4) ('환불', 4) ('고장', 3) \n",
      "프로그램 종료!\n"
     ]
    }
   ],
   "source": [
    "## 메인 코드 부분 ##\n",
    "if __name__ == \"__main__\" :\n",
    "    waitCall = [('사용', 9), ('고장', 3), ('환불', 4), ('환불', 4), ('고장', 3)]\n",
    "    \n",
    "    CircularQueue = Circular_Queue(k=len(waitCall))\n",
    "\n",
    "    for call in waitCall :\n",
    "        print(\"귀하의 대기 예상시간은 \", CircularQueue.time, \"분입니다.\")\n",
    "        print(f\"현재 대기 콜 --> \", end=' ')\n",
    "        CircularQueue.printNodes()\n",
    "        print('\\n')\n",
    "        CircularQueue.enqueue(call)\n",
    "\n",
    "        \n",
    "    print(\"----------------------------------------------------------------\")\n",
    "    print(\"최종 대기 콜 --> \", end=' ')\n",
    "    CircularQueue.printNodes()\n",
    "    print(\"프로그램 종료!\")"
   ]
  }
 ],
 "metadata": {
  "colab": {
   "provenance": []
  },
  "kernelspec": {
   "display_name": "Python 3 (ipykernel)",
   "language": "python",
   "name": "python3"
  },
  "language_info": {
   "codemirror_mode": {
    "name": "ipython",
    "version": 3
   },
   "file_extension": ".py",
   "mimetype": "text/x-python",
   "name": "python",
   "nbconvert_exporter": "python",
   "pygments_lexer": "ipython3",
   "version": "3.9.12"
  }
 },
 "nbformat": 4,
 "nbformat_minor": 1
}
