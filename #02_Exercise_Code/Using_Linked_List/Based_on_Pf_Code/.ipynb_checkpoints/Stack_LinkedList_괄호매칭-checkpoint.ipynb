{
 "cells": [
  {
   "cell_type": "code",
   "execution_count": 1,
   "metadata": {
    "colab": {
     "base_uri": "https://localhost:8080/"
    },
    "executionInfo": {
     "elapsed": 6,
     "status": "ok",
     "timestamp": 1679881635153,
     "user": {
      "displayName": "Hyon Hee Kim",
      "userId": "14896894259665252236"
     },
     "user_tz": -540
    },
    "id": "diHIg0ukvuwQ",
    "outputId": "a32d4abd-1474-4e4b-f5e8-0be88f2a4233",
    "scrolled": true
   },
   "outputs": [
    {
     "name": "stdout",
     "output_type": "stream",
     "text": [
      "stack is empty\n",
      "None\n",
      "10\n",
      "20\n",
      "30\n",
      "30\n",
      "20\n",
      "10\n"
     ]
    }
   ],
   "source": [
    "class Node:\n",
    "  def __init__(self, data):\n",
    "      self.data = data\n",
    "      self.next = None\n",
    "\n",
    "class Stack:\n",
    "  def __init__(self):\n",
    "      self.head = None\n",
    "\n",
    "  def push(self, data):\n",
    "    new_node = Node(data)\n",
    "    new_node.next = self.head\n",
    "    self.head = new_node\n",
    "    \n",
    "  def isEmpty(self):\n",
    "    is_empty = False\n",
    "    if self.head == None:\n",
    "      is_empty = True\n",
    "    return is_empty\n",
    "\n",
    "  def pop(self):\n",
    "    data = None\n",
    "    if self.isEmpty():\n",
    "      print(\"stack is empty\")\n",
    "    else:\n",
    "      data = self.head.data\n",
    "      self.head = self.head.next\n",
    "    return data  \n",
    "\n",
    "  def top(self):\n",
    "    data = None\n",
    "    if self.isEmpty():\n",
    "      print(\"stack is empty\")\n",
    "    else:\n",
    "      data = self.head.data\n",
    "    return data\n",
    "\n",
    "\n",
    "if __name__ == \"__main__\":\n",
    "  a = Stack()\n",
    "  print(a.top())\n",
    "  a.push(10)\n",
    "  print(a.top())\n",
    "  a.push(20)\n",
    "  print(a.top())\n",
    "  a.push(30)\n",
    "  print(a.top())\n",
    "  print(a.pop())\n",
    "  print(a.pop())\n",
    "  print(a.pop())"
   ]
  },
  {
   "cell_type": "markdown",
   "metadata": {},
   "source": [
    "## 👉 괄호 매칭 문제"
   ]
  },
  {
   "cell_type": "code",
   "execution_count": 2,
   "metadata": {},
   "outputs": [],
   "source": [
    "match_dict = {'}' : '{', ')' : '('}\n",
    "\n",
    "def solution(user_input):\n",
    "    stack = Stack()\n",
    "    \n",
    "    for s in user_input:\n",
    "        if s == '(' or s == '{':\n",
    "            stack.push(s)\n",
    "        elif s == ')' or s == '}':\n",
    "            if stack.isEmpty() or (stack.top() != match_dict[s]):\n",
    "                return 0\n",
    "            stack.pop()\n",
    "    if not stack.isEmpty():\n",
    "        return 0\n",
    "    \n",
    "    return 1"
   ]
  },
  {
   "cell_type": "code",
   "execution_count": 3,
   "metadata": {},
   "outputs": [
    {
     "data": {
      "text/plain": [
       "0"
      ]
     },
     "execution_count": 3,
     "metadata": {},
     "output_type": "execute_result"
    }
   ],
   "source": [
    "solution(\"{(a+b) * (c+d)\")"
   ]
  },
  {
   "cell_type": "code",
   "execution_count": 4,
   "metadata": {},
   "outputs": [
    {
     "data": {
      "text/plain": [
       "1"
      ]
     },
     "execution_count": 4,
     "metadata": {},
     "output_type": "execute_result"
    }
   ],
   "source": [
    "solution(\"(a*b)\")"
   ]
  },
  {
   "cell_type": "code",
   "execution_count": 5,
   "metadata": {},
   "outputs": [
    {
     "data": {
      "text/plain": [
       "1"
      ]
     },
     "execution_count": 5,
     "metadata": {},
     "output_type": "execute_result"
    }
   ],
   "source": [
    "solution(\"(a+b+d)\")"
   ]
  }
 ],
 "metadata": {
  "colab": {
   "provenance": []
  },
  "kernelspec": {
   "display_name": "Python 3 (ipykernel)",
   "language": "python",
   "name": "python3"
  },
  "language_info": {
   "codemirror_mode": {
    "name": "ipython",
    "version": 3
   },
   "file_extension": ".py",
   "mimetype": "text/x-python",
   "name": "python",
   "nbconvert_exporter": "python",
   "pygments_lexer": "ipython3",
   "version": "3.9.12"
  }
 },
 "nbformat": 4,
 "nbformat_minor": 1
}
