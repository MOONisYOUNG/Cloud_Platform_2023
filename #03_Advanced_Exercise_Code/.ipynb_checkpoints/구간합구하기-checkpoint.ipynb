{
 "cells": [
  {
   "cell_type": "code",
   "execution_count": 2,
   "metadata": {
    "id": "PbgV_As6xMUc"
   },
   "outputs": [
    {
     "name": "stdout",
     "output_type": "stream",
     "text": [
      "5 3\n",
      "5 4 3 2 1\n",
      "1 3\n",
      "12\n",
      "2 4\n",
      "9\n",
      "5 5\n",
      "1\n"
     ]
    }
   ],
   "source": [
    "suNo,quizNo = map(int, input().split())\n",
    "numbers = list(map(int, input().split()))\n",
    "prifix_sum = [0]\n",
    "temp = 0\n",
    "for i in numbers:\n",
    "    temp = temp + i\n",
    "    prifix_sum.append(temp) #합 배열 만들기\n",
    "for i in range(quizNo):\n",
    "    s, e = map(int, input().split())\n",
    "    print(prifix_sum[e]-prifix_sum[s-1]) #합 배열에서 구간합 구하기"
   ]
  }
 ],
 "metadata": {
  "colab": {
   "provenance": []
  },
  "kernelspec": {
   "display_name": "Python 3 (ipykernel)",
   "language": "python",
   "name": "python3"
  },
  "language_info": {
   "codemirror_mode": {
    "name": "ipython",
    "version": 3
   },
   "file_extension": ".py",
   "mimetype": "text/x-python",
   "name": "python",
   "nbconvert_exporter": "python",
   "pygments_lexer": "ipython3",
   "version": "3.9.12"
  }
 },
 "nbformat": 4,
 "nbformat_minor": 1
}
