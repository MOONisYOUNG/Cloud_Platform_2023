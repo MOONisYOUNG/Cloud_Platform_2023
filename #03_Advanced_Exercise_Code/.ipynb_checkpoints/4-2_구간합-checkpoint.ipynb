{
 "cells": [
  {
   "cell_type": "code",
   "execution_count": 1,
   "id": "b4a4f58f",
   "metadata": {},
   "outputs": [
    {
     "name": "stdout",
     "output_type": "stream",
     "text": [
      "5 3\n",
      "5 4 3 2 1\n",
      "---------------------------------------\n",
      "1 3\n",
      "출력 : 12\n",
      "2 4\n",
      "출력 : 9\n",
      "5 5\n",
      "출력 : 1\n"
     ]
    }
   ],
   "source": [
    "# 자료의 수정 및 삭제가 거의 일어나지 않으므로, 선형 리스트를 사용\n",
    "M, N = map(int, input().split())\n",
    "arr = list(map(int, input().split()))\n",
    "print(\"---------------------------------------\")\n",
    "for i in range(N):\n",
    "    i, j = map(int, input().split())\n",
    "    print(f\"출력 : {sum(arr[i-1:j])}\")"
   ]
  }
 ],
 "metadata": {
  "kernelspec": {
   "display_name": "Python 3 (ipykernel)",
   "language": "python",
   "name": "python3"
  },
  "language_info": {
   "codemirror_mode": {
    "name": "ipython",
    "version": 3
   },
   "file_extension": ".py",
   "mimetype": "text/x-python",
   "name": "python",
   "nbconvert_exporter": "python",
   "pygments_lexer": "ipython3",
   "version": "3.9.12"
  }
 },
 "nbformat": 4,
 "nbformat_minor": 5
}
