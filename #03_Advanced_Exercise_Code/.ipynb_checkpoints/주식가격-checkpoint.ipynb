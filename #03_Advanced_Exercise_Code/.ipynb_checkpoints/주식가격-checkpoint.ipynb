{
 "cells": [
  {
   "cell_type": "code",
   "execution_count": null,
   "metadata": {
    "id": "m9UrDq8k0-Zk"
   },
   "outputs": [],
   "source": [
    "def solution(prices):\n",
    "    stack = []\n",
    "    answer = [0] * len(prices)\n",
    "    for i in range(len(prices)):\n",
    "        if stack != []:\n",
    "            while stack != [] and stack[-1][1] > prices[i]:\n",
    "                past, _ = stack.pop()\n",
    "                answer[past] = i - past\n",
    "        stack.append([i, prices[i]])\n",
    "    for i, s in stack:\n",
    "        answer[i] = len(prices) - 1 - i\n",
    "    return answer\n"
   ]
  },
  {
   "cell_type": "code",
   "execution_count": null,
   "metadata": {
    "colab": {
     "base_uri": "https://localhost:8080/"
    },
    "id": "lukxbNlY1ZRM",
    "outputId": "3770e939-4f4e-46f4-df33-7393ad593a03"
   },
   "outputs": [
    {
     "data": {
      "text/plain": [
       "[4, 3, 1, 1, 0]"
      ]
     },
     "execution_count": 2,
     "metadata": {},
     "output_type": "execute_result"
    }
   ],
   "source": [
    "solution([1,2,3,2,3])"
   ]
  }
 ],
 "metadata": {
  "colab": {
   "provenance": []
  },
  "kernelspec": {
   "display_name": "Python 3 (ipykernel)",
   "language": "python",
   "name": "python3"
  },
  "language_info": {
   "codemirror_mode": {
    "name": "ipython",
    "version": 3
   },
   "file_extension": ".py",
   "mimetype": "text/x-python",
   "name": "python",
   "nbconvert_exporter": "python",
   "pygments_lexer": "ipython3",
   "version": "3.9.12"
  }
 },
 "nbformat": 4,
 "nbformat_minor": 1
}
