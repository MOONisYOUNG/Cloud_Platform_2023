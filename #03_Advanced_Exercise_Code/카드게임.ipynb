{
 "cells": [
  {
   "cell_type": "code",
   "execution_count": null,
   "metadata": {
    "colab": {
     "base_uri": "https://localhost:8080/"
    },
    "id": "J_hDojiAxnKz",
    "outputId": "99661a54-0f7c-45ee-b395-542e3de81f8a"
   },
   "outputs": [
    {
     "name": "stdout",
     "output_type": "stream",
     "text": [
      "6\n",
      "4\n"
     ]
    }
   ],
   "source": [
    "from collections import deque\n",
    "N = int(input())\n",
    "myQueue = deque()\n",
    "for i in range(1, N+1):\n",
    "    myQueue.append(i)\n",
    "while len(myQueue) > 1:     # 카드가 1장 남을 때까지\n",
    "    myQueue.popleft()       # 맨 위의 카드를 버림\n",
    "    myQueue.append(myQueue.popleft())   # 맨 위의 카드를 가장 아래 카드 밑으로 이동\n",
    "print(myQueue[0])   # 마지막으로 남은 카드 출력"
   ]
  }
 ],
 "metadata": {
  "colab": {
   "provenance": []
  },
  "kernelspec": {
   "display_name": "Python 3 (ipykernel)",
   "language": "python",
   "name": "python3"
  },
  "language_info": {
   "codemirror_mode": {
    "name": "ipython",
    "version": 3
   },
   "file_extension": ".py",
   "mimetype": "text/x-python",
   "name": "python",
   "nbconvert_exporter": "python",
   "pygments_lexer": "ipython3",
   "version": "3.9.12"
  }
 },
 "nbformat": 4,
 "nbformat_minor": 1
}
