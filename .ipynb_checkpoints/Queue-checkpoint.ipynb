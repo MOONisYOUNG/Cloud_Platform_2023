{
 "cells": [
  {
   "cell_type": "code",
   "execution_count": 1,
   "metadata": {
    "colab": {
     "base_uri": "https://localhost:8080/"
    },
    "id": "ZvnuQKRR2vnU",
    "outputId": "61776ed9-e781-4a8d-fa45-6a48d079a6dc"
   },
   "outputs": [
    {
     "name": "stdout",
     "output_type": "stream",
     "text": [
      "[None, None, None, None, None]\n"
     ]
    }
   ],
   "source": [
    "queue = [None, None, None, None, None]\n",
    "front = rear = -1\n",
    "\n",
    "print(queue)"
   ]
  },
  {
   "cell_type": "code",
   "execution_count": 2,
   "metadata": {
    "id": "ade1TZ6JifY9"
   },
   "outputs": [],
   "source": [
    "rear += 1\n",
    "queue[rear] = \"화사\"\n",
    "rear += 1\n",
    "queue[rear] = \"솔라\"\n",
    "rear += 1\n",
    "queue[rear] = \"문별\""
   ]
  },
  {
   "cell_type": "code",
   "execution_count": 3,
   "metadata": {
    "colab": {
     "base_uri": "https://localhost:8080/"
    },
    "id": "umdgeIumibKI",
    "outputId": "1a9fca04-cf30-439b-b913-34774c6fe4dd"
   },
   "outputs": [
    {
     "name": "stdout",
     "output_type": "stream",
     "text": [
      "----- 큐 상태 -----\n",
      "[출구] <-- 화사 솔라 문별 None None <-- [입구] \n"
     ]
    }
   ],
   "source": [
    "print(\"----- 큐 상태 -----\")\n",
    "print ( '[출구] <-- ', end='')\n",
    "for i in range(0, len(queue), 1) :\n",
    "\tprint(queue[i], end=' ')\n",
    "print ( '<-- [입구] ')"
   ]
  },
  {
   "cell_type": "code",
   "execution_count": 4,
   "metadata": {
    "id": "m69L0NIai0mL"
   },
   "outputs": [],
   "source": [
    "queue = [\"화사\", \"솔라\", \"문별\", None, None]\n",
    "front = -1\n",
    "rear = 2\n"
   ]
  },
  {
   "cell_type": "code",
   "execution_count": 5,
   "metadata": {
    "colab": {
     "base_uri": "https://localhost:8080/"
    },
    "id": "L5cFQkLOjClD",
    "outputId": "887a7271-677c-446b-dd56-91edfe5a7125"
   },
   "outputs": [
    {
     "name": "stdout",
     "output_type": "stream",
     "text": [
      "deQueue -->  화사\n",
      "[None, '솔라', '문별', None, None]\n"
     ]
    }
   ],
   "source": [
    "front += 1\n",
    "data = queue[front]\n",
    "queue[front] = None\n",
    "print('deQueue --> ', data)\n",
    "print(queue)"
   ]
  },
  {
   "cell_type": "code",
   "execution_count": 6,
   "metadata": {
    "colab": {
     "base_uri": "https://localhost:8080/"
    },
    "id": "vbsLDHOljJnK",
    "outputId": "44b488dd-fb2e-45d6-d636-0dc7ac59ee16"
   },
   "outputs": [
    {
     "name": "stdout",
     "output_type": "stream",
     "text": [
      "0\n"
     ]
    }
   ],
   "source": [
    "print(front)"
   ]
  },
  {
   "cell_type": "code",
   "execution_count": 7,
   "metadata": {
    "colab": {
     "base_uri": "https://localhost:8080/"
    },
    "id": "QGpGwSa_jSyX",
    "outputId": "7bf76052-2b1f-45ac-c9b2-b582848933a0"
   },
   "outputs": [
    {
     "name": "stdout",
     "output_type": "stream",
     "text": [
      "deQueue -->  솔라\n",
      "[None, None, '문별', None, None]\n",
      "1\n"
     ]
    }
   ],
   "source": [
    "front += 1\n",
    "data = queue[front]\n",
    "queue[front] = None\n",
    "print('deQueue --> ', data)\n",
    "print(queue)\n",
    "print(front)"
   ]
  },
  {
   "cell_type": "code",
   "execution_count": 10,
   "metadata": {
    "colab": {
     "base_uri": "https://localhost:8080/"
    },
    "id": "z05AIDPc2z1M",
    "outputId": "53402234-07b0-4438-c2c3-127ea5e3ca2a"
   },
   "outputs": [
    {
     "name": "stdout",
     "output_type": "stream",
     "text": [
      "deQueue -->  None\n",
      "-------------------\n",
      "----- 큐 상태 -----\n",
      "[출구] <-- None None None None None <-- [입구] \n",
      "4\n"
     ]
    }
   ],
   "source": [
    "front += 1\n",
    "data = queue[front]\n",
    "queue[front] = None\n",
    "print('deQueue --> ', data)\n",
    "print(\"-------------------\")\n",
    "\n",
    "print(\"----- 큐 상태 -----\")\n",
    "print ( '[출구] <-- ', end = '')\n",
    "for i in range(0, len(queue), 1) :\n",
    "\tprint(queue[i], end = ' ')\n",
    "print ( '<-- [입구] ')\n",
    "print(front)"
   ]
  },
  {
   "cell_type": "code",
   "execution_count": 11,
   "metadata": {
    "colab": {
     "base_uri": "https://localhost:8080/"
    },
    "id": "jF_4Jqug25Lz",
    "outputId": "79c14021-2af9-4bfc-ae37-3e6848e2e6e5"
   },
   "outputs": [
    {
     "name": "stdout",
     "output_type": "stream",
     "text": [
      "큐가 꽉 찼는지 여부 ==> True\n"
     ]
    }
   ],
   "source": [
    "def isQueueFull() :\n",
    "\tglobal SIZE, queue, front, rear\n",
    "\tif (rear == SIZE-1) :\n",
    "\t\treturn True\n",
    "\telse :\n",
    "\t\treturn False\n",
    "\n",
    "SIZE = 5\n",
    "queue = [\"화사\", \"솔라\", \"문별\", \"휘인\", \"선미\"]\n",
    "front = -1\n",
    "rear = 4\n",
    "\n",
    "print(\"큐가 꽉 찼는지 여부 ==>\", isQueueFull())"
   ]
  },
  {
   "cell_type": "code",
   "execution_count": 12,
   "metadata": {
    "colab": {
     "base_uri": "https://localhost:8080/"
    },
    "id": "gD1n_RLQ29hq",
    "outputId": "2fcf0fcb-3596-49f0-e91b-c460c1848bff"
   },
   "outputs": [
    {
     "name": "stdout",
     "output_type": "stream",
     "text": [
      "['화사', '솔라', '문별', '휘인', None]\n",
      "['화사', '솔라', '문별', '휘인', '선미']\n",
      "큐가 꽉 찼습니다.\n"
     ]
    }
   ],
   "source": [
    "def isQueueFull() :\n",
    "\tglobal SIZE, queue, front, rear\n",
    "\tif (rear == SIZE-1) :\n",
    "\t\treturn True\n",
    "\telse :\n",
    "\t\treturn False\n",
    "\n",
    "def enQueue(data) :\n",
    "\tglobal SIZE, queue, front, rear\n",
    "\tif (isQueueFull()) :\n",
    "\t\tprint(\"큐가 꽉 찼습니다.\")\n",
    "\t\treturn\n",
    "\trear += 1\n",
    "\tqueue[rear] = data\n",
    "\n",
    "SIZE = 5\n",
    "queue = [\"화사\", \"솔라\", \"문별\", \"휘인\", None]\n",
    "front = -1\n",
    "rear = 3\n",
    "\n",
    "print(queue)\n",
    "enQueue(\"선미\")\n",
    "print(queue)\n",
    "enQueue(\"재남\")"
   ]
  },
  {
   "cell_type": "code",
   "execution_count": 13,
   "metadata": {
    "colab": {
     "base_uri": "https://localhost:8080/"
    },
    "id": "DvrwRwa53A_1",
    "outputId": "d8ab8205-acb8-479c-8268-5e35c7e65eea"
   },
   "outputs": [
    {
     "name": "stdout",
     "output_type": "stream",
     "text": [
      "큐가 비었는지 여부 ==> True\n"
     ]
    }
   ],
   "source": [
    "def isQueueEmpty() :\n",
    "\tglobal SIZE, queue, front, rear\n",
    "\tif (front == rear) :\n",
    "\t\treturn True\n",
    "\telse :\n",
    "\t\treturn False\n",
    "\n",
    "SIZE = 5\n",
    "queue = [ None for _ in range(SIZE) ]\n",
    "front = rear = -1\n",
    "\n",
    "print(\"큐가 비었는지 여부 ==>\", isQueueEmpty())"
   ]
  },
  {
   "cell_type": "code",
   "execution_count": 14,
   "metadata": {
    "colab": {
     "base_uri": "https://localhost:8080/"
    },
    "id": "2di-75VF3E6v",
    "outputId": "bf4ee9ca-45e3-42e8-862f-ffccf8e7808b"
   },
   "outputs": [
    {
     "name": "stdout",
     "output_type": "stream",
     "text": [
      "['화사', None, None, None, None]\n",
      "추출한 데이터 --> 화사\n",
      "[None, None, None, None, None]\n",
      "큐가 비었습니다.\n"
     ]
    }
   ],
   "source": [
    "def isQueueEmpty() :\n",
    "\tglobal SIZE, queue, front, rear\n",
    "\tif (front == rear) :\n",
    "\t\treturn True\n",
    "\telse :\n",
    "\t\treturn False\n",
    "\n",
    "def deQueue() :\n",
    "\tglobal SIZE, queue, front, rear\n",
    "\tif (isQueueEmpty()) :\n",
    "\t\tprint(\"큐가 비었습니다.\")\n",
    "\t\treturn None\n",
    "\tfront += 1\n",
    "\tdata = queue[front]\n",
    "\tqueue[front] = None\n",
    "\treturn data\n",
    "\n",
    "SIZE = 5\n",
    "queue = [\"화사\", None, None, None, None]\n",
    "front = -1\n",
    "rear = 0\n",
    "\n",
    "print(queue)\n",
    "retData = deQueue()\n",
    "print(\"추출한 데이터 -->\", retData)\n",
    "print(queue)\n",
    "retData = deQueue()"
   ]
  },
  {
   "cell_type": "code",
   "execution_count": 15,
   "metadata": {
    "colab": {
     "base_uri": "https://localhost:8080/"
    },
    "id": "BIQNIpF53ItF",
    "outputId": "041de6eb-6942-45d3-a467-b3c2189e48fe"
   },
   "outputs": [
    {
     "name": "stdout",
     "output_type": "stream",
     "text": [
      "['화사', '솔라', '문별', None, None]\n",
      "다음에 추출될 데이터 확인 --> 화사\n",
      "['화사', '솔라', '문별', None, None]\n"
     ]
    }
   ],
   "source": [
    "def isQueueEmpty() :\n",
    "\tglobal SIZE, queue, front, rear\n",
    "\tif (front == rear) :\n",
    "\t\treturn True\n",
    "\telse :\n",
    "\t\treturn False\n",
    "\n",
    "def peek() :\n",
    "\tglobal SIZE, queue, front, rear\n",
    "\tif (isQueueEmpty()) :\n",
    "\t\tprint(\"큐가 비었습니다.\")\n",
    "\t\treturn None\n",
    "\treturn queue[front+1]\n",
    "\n",
    "SIZE = 5\n",
    "queue = [\"화사\", \"솔라\", \"문별\", None, None]\n",
    "front = -1\n",
    "rear = 2\n",
    "\n",
    "print(queue)\n",
    "retData = peek()\n",
    "print(\"다음에 추출될 데이터 확인 -->\", retData)\n",
    "print(queue)"
   ]
  },
  {
   "cell_type": "code",
   "execution_count": 16,
   "metadata": {
    "colab": {
     "base_uri": "https://localhost:8080/"
    },
    "id": "678BBMiF3NA9",
    "outputId": "5d572284-699b-4149-ec83-1de4e87dc55d"
   },
   "outputs": [
    {
     "name": "stdout",
     "output_type": "stream",
     "text": [
      "큐의 크기를 입력하세요 ==> 6\n",
      "삽입(I)/추출(E)/확인(V)/종료(X) 중 하나를 선택 ==> i\n",
      "입력할 데이터 ==> 사과\n",
      "큐 상태 :  ['사과', None, None, None, None, None]\n",
      "삽입(I)/추출(E)/확인(V)/종료(X) 중 하나를 선택 ==> i\n",
      "입력할 데이터 ==> 토마토\n",
      "큐 상태 :  ['사과', '토마토', None, None, None, None]\n",
      "삽입(I)/추출(E)/확인(V)/종료(X) 중 하나를 선택 ==> i\n",
      "입력할 데이터 ==> 바나나\n",
      "큐 상태 :  ['사과', '토마토', '바나나', None, None, None]\n",
      "삽입(I)/추출(E)/확인(V)/종료(X) 중 하나를 선택 ==> e\n",
      "추출된 데이터 ==>  사과\n",
      "큐 상태 :  [None, '토마토', '바나나', None, None, None]\n",
      "삽입(I)/추출(E)/확인(V)/종료(X) 중 하나를 선택 ==> e\n",
      "추출된 데이터 ==>  토마토\n",
      "큐 상태 :  [None, None, '바나나', None, None, None]\n",
      "삽입(I)/추출(E)/확인(V)/종료(X) 중 하나를 선택 ==> e\n",
      "추출된 데이터 ==>  바나나\n",
      "큐 상태 :  [None, None, None, None, None, None]\n",
      "삽입(I)/추출(E)/확인(V)/종료(X) 중 하나를 선택 ==> i\n",
      "입력할 데이터 ==> 사과\n",
      "큐 상태 :  [None, None, None, '사과', None, None]\n",
      "삽입(I)/추출(E)/확인(V)/종료(X) 중 하나를 선택 ==> i\n",
      "입력할 데이터 ==> 포도\n",
      "큐 상태 :  [None, None, None, '사과', '포도', None]\n",
      "삽입(I)/추출(E)/확인(V)/종료(X) 중 하나를 선택 ==> i\n",
      "입력할 데이터 ==> 오렌지\n",
      "큐 상태 :  [None, None, None, '사과', '포도', '오렌지']\n",
      "삽입(I)/추출(E)/확인(V)/종료(X) 중 하나를 선택 ==> i\n",
      "입력할 데이터 ==> 메론\n",
      "큐가 꽉 찼습니다.\n",
      "큐 상태 :  [None, None, None, '사과', '포도', '오렌지']\n",
      "삽입(I)/추출(E)/확인(V)/종료(X) 중 하나를 선택 ==> x\n",
      "프로그램 종료!\n"
     ]
    }
   ],
   "source": [
    "## 함수 선언 부분 ##\n",
    "def isQueueFull() :\n",
    "\tglobal SIZE, queue, front, rear\n",
    "\tif (rear == SIZE-1) :\n",
    "\t\treturn True\n",
    "\telse :\n",
    "\t\treturn False\n",
    "\n",
    "def isQueueEmpty() :\n",
    "\tglobal SIZE, queue, front, rear\n",
    "\tif (front == rear) :\n",
    "\t\treturn True\n",
    "\telse :\n",
    "\t\treturn False\n",
    "\n",
    "def enQueue(data) :\n",
    "\tglobal SIZE, queue, front, rear\n",
    "\tif (isQueueFull()) :\n",
    "\t\tprint(\"큐가 꽉 찼습니다.\")\n",
    "\t\treturn\n",
    "\trear += 1\n",
    "\tqueue[rear] = data\n",
    "\n",
    "def deQueue() :\n",
    "\tglobal SIZE, queue, front, rear\n",
    "\tif (isQueueEmpty()) :\n",
    "\t\tprint(\"큐가 비었습니다.\")\n",
    "\t\treturn None\n",
    "\tfront += 1\n",
    "\tdata = queue[front]\n",
    "\tqueue[front] = None\n",
    "\treturn data\n",
    "\n",
    "def peek() :\n",
    "\tglobal SIZE, queue, front, rear\n",
    "\tif (isQueueEmpty()) :\n",
    "\t\tprint(\"큐가 비었습니다.\")\n",
    "\t\treturn None\n",
    "\treturn queue[front+1]\n",
    "\n",
    "## 전역 변수 선언 부분 ##\n",
    "SIZE = int(input(\"큐의 크기를 입력하세요 ==> \"))\n",
    "queue = [ None for _ in range(SIZE) ]\n",
    "front = rear = -1\n",
    "\n",
    "## 메인 코드 부분 ##\n",
    "if __name__ == \"__main__\" :\n",
    "\tselect = input(\"삽입(I)/추출(E)/확인(V)/종료(X) 중 하나를 선택 ==> \")\n",
    "\n",
    "\twhile (select != 'X' and select != 'x') :\n",
    "\t\tif select=='I' or select =='i' :\n",
    "\t\t\tdata = input(\"입력할 데이터 ==> \")\n",
    "\t\t\tenQueue(data)\n",
    "\t\t\tprint(\"큐 상태 : \", queue)\n",
    "\t\telif select=='E' or select =='e' :\n",
    "\t\t\tdata = deQueue()\n",
    "\t\t\tprint(\"추출된 데이터 ==> \", data)\n",
    "\t\t\tprint(\"큐 상태 : \", queue)\n",
    "\t\telif select=='V' or select =='v' :\n",
    "\t\t\tdata = peek()\n",
    "\t\t\tprint(\"확인된 데이터 ==> \", data)\n",
    "\t\t\tprint(\"큐 상태 : \", queue)\n",
    "\t\telse :\n",
    "\t\t\tprint(\"입력이 잘못됨\")\n",
    "\n",
    "\t\tselect = input(\"삽입(I)/추출(E)/확인(V)/종료(X) 중 하나를 선택 ==> \")\n",
    "\n",
    "\tprint(\"프로그램 종료!\")"
   ]
  },
  {
   "cell_type": "code",
   "execution_count": 17,
   "metadata": {
    "colab": {
     "base_uri": "https://localhost:8080/"
    },
    "id": "Q4Aqef1E3Qwf",
    "outputId": "0485e936-28c7-49f6-bf68-3d4126cfcfc7"
   },
   "outputs": [
    {
     "name": "stdout",
     "output_type": "stream",
     "text": [
      "큐가 꽉 찼는지 여부 ==> False\n",
      "큐 상태 ==>  [None, '문별', '휘인', '선미', None]\n"
     ]
    }
   ],
   "source": [
    "def isQueueFull() :\n",
    "\tglobal SIZE, queue, front, rear\n",
    "\tif (rear != SIZE-1) :\n",
    "\t\treturn False\n",
    "\telif (rear == SIZE -1) and (front == -1) :\n",
    "\t\treturn True\n",
    "\telse :\n",
    "\t\tfor i in range(front+1, SIZE) :\n",
    "\t\t\tqueue[i-1] = queue[i]\n",
    "\t\t\tqueue[i] = None\n",
    "\t\tfront -= 1\n",
    "\t\trear -= 1\n",
    "\t\treturn False\n",
    "\n",
    "SIZE = 5\n",
    "queue = [None, None, \"문별\", \"휘인\", \"선미\"]\n",
    "front = 1\n",
    "rear = 4\n",
    "\n",
    "print(\"큐가 꽉 찼는지 여부 ==>\", isQueueFull())\n",
    "print(\"큐 상태 ==> \", queue)"
   ]
  },
  {
   "cell_type": "code",
   "execution_count": null,
   "metadata": {
    "colab": {
     "base_uri": "https://localhost:8080/"
    },
    "id": "W7D48pwt3ZFd",
    "outputId": "5bfd1dd9-cfa9-49c8-de41-84f979993bea"
   },
   "outputs": [
    {
     "name": "stdout",
     "output_type": "stream",
     "text": [
      "큐의 크기를 입력하세요 ==> 3\n",
      "삽입(I)/추출(E)/확인(V)/종료(X) 중 하나 선택 ==> e\n",
      "큐가 비었습니다.\n",
      "추출된 데이터 ==>  None\n",
      "큐 상태 :  [None, None, None]\n",
      "삽입(I)/추출(E)/확인(V)/종료(X) 중 하나 선택 ==> x\n",
      "프로그램 종료!\n"
     ]
    }
   ],
   "source": [
    "## 함수 선언 부분 ##\n",
    "def isQueueFull() :\n",
    "\tglobal SIZE, queue, front, rear\n",
    "\tif (rear != SIZE-1) :\n",
    "\t\treturn False\n",
    "\telif (rear == SIZE -1) and (front == -1) :\n",
    "\t\treturn True\n",
    "\telse :\n",
    "\t\tfor i in range(front+1, SIZE) :\n",
    "\t\t\tqueue[i-1] = queue[i]\n",
    "\t\t\tqueue[i] = None\n",
    "\t\tfront -= 1\n",
    "\t\trear -= 1\n",
    "\t\treturn False\n",
    "\n",
    "def isQueueEmpty() :\n",
    "\tglobal SIZE, queue, front, rear\n",
    "\tif (front == rear) :\n",
    "\t\treturn True\n",
    "\telse :\n",
    "\t\treturn False\n",
    "\n",
    "def enQueue(data) :\n",
    "\tglobal SIZE, queue, front, rear\n",
    "\tif (isQueueFull()) :\n",
    "\t\tprint(\"큐가 꽉 찼습니다.\")\n",
    "\t\treturn\n",
    "\trear += 1\n",
    "\tqueue[rear] = data\n",
    "\n",
    "def deQueue() :\n",
    "\tglobal SIZE, queue, front, rear\n",
    "\tif (isQueueEmpty()) :\n",
    "\t\tprint(\"큐가 비었습니다.\")\n",
    "\t\treturn None\n",
    "\tfront += 1\n",
    "\tdata = queue[front]\n",
    "\tqueue[front] = None\n",
    "\treturn data\n",
    "\n",
    "def peek() :\n",
    "\tglobal SIZE, queue, front, rear\n",
    "\tif (isQueueEmpty()) :\n",
    "\t\tprint(\"큐가 비었습니다.\")\n",
    "\t\treturn None\n",
    "\treturn queue[front+1]\n",
    "\n",
    "## 전역 변수 선언 부분 ##\n",
    "SIZE = int(input(\"큐의 크기를 입력하세요 ==> \"))\n",
    "queue = [ None for _ in range(SIZE) ]\n",
    "front = rear = -1\n",
    "\n",
    "## 메인 코드 부분 ##\n",
    "if __name__ == \"__main__\" :\n",
    "\tselect = input(\"삽입(I)/추출(E)/확인(V)/종료(X) 중 하나 선택 ==> \")\n",
    "\n",
    "\twhile (select != 'X' and select != 'x') :\n",
    "\t\tif select=='I' or select =='i' :\n",
    "\t\t\tdata = input(\"입력할 데이터 ==> \")\n",
    "\t\t\tenQueue(data)\n",
    "\t\t\tprint(\"큐 상태 : \", queue)\n",
    "\t\telif select=='E' or select =='e' :\n",
    "\t\t\tdata = deQueue()\n",
    "\t\t\tprint(\"추출된 데이터 ==> \", data)\n",
    "\t\t\tprint(\"큐 상태 : \", queue)\n",
    "\t\telif select=='V' or select =='v' :\n",
    "\t\t\tdata = peek()\n",
    "\t\t\tprint(\"확인된 데이터 ==> \", data)\n",
    "\t\t\tprint(\"큐 상태 : \", queue)\n",
    "\t\telse :\n",
    "\t\t\tprint(\"입력이 잘못됨\")\n",
    "\n",
    "\t\tselect = input(\"삽입(I)/추출(E)/확인(V)/종료(X) 중 하나 선택 ==> \")\n",
    "\n",
    "\tprint(\"프로그램 종료!\")"
   ]
  },
  {
   "cell_type": "code",
   "execution_count": 18,
   "metadata": {
    "colab": {
     "base_uri": "https://localhost:8080/"
    },
    "id": "UUqpT-We3csr",
    "outputId": "f2a07f5a-1495-40b1-8f77-eefabdd462b2"
   },
   "outputs": [
    {
     "name": "stdout",
     "output_type": "stream",
     "text": [
      "큐의 크기를 입력하세요 ==> 5\n",
      "삽입(I)/추출(E)/확인(V)/종료(X) 중 하나를 선택 ==> i\n",
      "입력할 데이터 ==> 사과\n",
      "큐 상태 :  [None, '사과', None, None, None]\n",
      "front :  0 , rear :  1\n",
      "삽입(I)/추출(E)/확인(V)/종료(X) 중 하나를 선택 ==> i\n",
      "입력할 데이터 ==> 포도\n",
      "큐 상태 :  [None, '사과', '포도', None, None]\n",
      "front :  0 , rear :  2\n",
      "삽입(I)/추출(E)/확인(V)/종료(X) 중 하나를 선택 ==> i\n",
      "입력할 데이터 ==> 배\n",
      "큐 상태 :  [None, '사과', '포도', '배', None]\n",
      "front :  0 , rear :  3\n",
      "삽입(I)/추출(E)/확인(V)/종료(X) 중 하나를 선택 ==> e\n",
      "추출된 데이터 ==>  사과\n",
      "큐 상태 :  [None, None, '포도', '배', None]\n",
      "front :  1 , rear :  3\n",
      "삽입(I)/추출(E)/확인(V)/종료(X) 중 하나를 선택 ==> e\n",
      "추출된 데이터 ==>  포도\n",
      "큐 상태 :  [None, None, None, '배', None]\n",
      "front :  2 , rear :  3\n",
      "삽입(I)/추출(E)/확인(V)/종료(X) 중 하나를 선택 ==> i\n",
      "입력할 데이터 ==> 바나나\n",
      "큐 상태 :  [None, None, None, '배', '바나나']\n",
      "front :  2 , rear :  4\n",
      "삽입(I)/추출(E)/확인(V)/종료(X) 중 하나를 선택 ==> i\n",
      "입력할 데이터 ==> 메론\n",
      "큐 상태 :  ['메론', None, None, '배', '바나나']\n",
      "front :  2 , rear :  0\n",
      "삽입(I)/추출(E)/확인(V)/종료(X) 중 하나를 선택 ==> x\n",
      "프로그램 종료!\n"
     ]
    }
   ],
   "source": [
    "## 함수 선언 부분 ##\n",
    "def isQueueFull() :\n",
    "\tglobal SIZE, queue, front, rear\n",
    "\tif ( (rear + 1) % SIZE == front) :\n",
    "\t\treturn True\n",
    "\telse :\n",
    "\t\treturn False\n",
    "\n",
    "def isQueueEmpty() :\n",
    "\tglobal SIZE, queue, front, rear\n",
    "\tif (front == rear) :\n",
    "\t\treturn True\n",
    "\telse :\n",
    "\t\treturn False\n",
    "\n",
    "def enQueue(data) :\n",
    "\tglobal SIZE, queue, front, rear\n",
    "\tif (isQueueFull()) :\n",
    "\t\tprint(\"큐가 꽉 찼습니다.\")\n",
    "\t\treturn\n",
    "\trear = (rear + 1) % SIZE\n",
    "\tqueue[rear] = data\n",
    "\n",
    "def deQueue() :\n",
    "\tglobal SIZE, queue, front, rear\n",
    "\tif (isQueueEmpty()) :\n",
    "\t\tprint(\"큐가 비었습니다.\")\n",
    "\t\treturn None\n",
    "\tfront = (front + 1) % SIZE\n",
    "\tdata = queue[front]\n",
    "\tqueue[front] = None\n",
    "\treturn data\n",
    "\n",
    "def peek() :\n",
    "\tglobal SIZE, queue, front, rear\n",
    "\tif (isQueueEmpty()) :\n",
    "\t\tprint(\"큐가 비었습니다.\")\n",
    "\t\treturn None\n",
    "\treturn queue[(front + 1) % SIZE]\n",
    "\n",
    "## 전역 변수 선언 부분 ##\n",
    "SIZE = int(input(\"큐의 크기를 입력하세요 ==> \"))\n",
    "queue = [ None for _ in range(SIZE) ]\n",
    "front = rear = 0\n",
    "\n",
    "## 메인 코드 부분 ##\n",
    "if __name__ == \"__main__\" :\n",
    "\tselect = input(\"삽입(I)/추출(E)/확인(V)/종료(X) 중 하나를 선택 ==> \")\n",
    "\n",
    "\twhile (select != 'X' and select != 'x') :\n",
    "\t\tif select=='I' or select =='i' :\n",
    "\t\t\tdata = input(\"입력할 데이터 ==> \")\n",
    "\t\t\tenQueue(data)\n",
    "\t\t\tprint(\"큐 상태 : \", queue)\n",
    "\t\t\tprint(\"front : \", front, \", rear : \", rear)\n",
    "\t\telif select=='E' or select =='e' :\n",
    "\t\t\tdata = deQueue()\n",
    "\t\t\tprint(\"추출된 데이터 ==> \", data)\n",
    "\t\t\tprint(\"큐 상태 : \", queue)\n",
    "\t\t\tprint(\"front : \", front, \", rear : \", rear)\n",
    "\t\telif select=='V' or select =='v' :\n",
    "\t\t\tdata = peek()\n",
    "\t\t\tprint(\"확인된 데이터 ==> \", data)\n",
    "\t\t\tprint(\"큐 상태 : \", queue)\n",
    "\t\t\tprint(\"front : \", front, \", rear : \", rear)\n",
    "\t\telse :\n",
    "\t\t\tprint(\"입력이 잘못됨\")\n",
    "\n",
    "\t\tselect = input(\"삽입(I)/추출(E)/확인(V)/종료(X) 중 하나를 선택 ==> \")\n",
    "\n",
    "\tprint(\"프로그램 종료!\")\n"
   ]
  }
 ],
 "metadata": {
  "colab": {
   "provenance": []
  },
  "kernelspec": {
   "display_name": "Python 3 (ipykernel)",
   "language": "python",
   "name": "python3"
  },
  "language_info": {
   "codemirror_mode": {
    "name": "ipython",
    "version": 3
   },
   "file_extension": ".py",
   "mimetype": "text/x-python",
   "name": "python",
   "nbconvert_exporter": "python",
   "pygments_lexer": "ipython3",
   "version": "3.9.12"
  }
 },
 "nbformat": 4,
 "nbformat_minor": 1
}
